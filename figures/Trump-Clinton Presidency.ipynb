{
 "cells": [
  {
   "cell_type": "markdown",
   "metadata": {},
   "source": [
    "Previously, I scrapped a bunch of content from [The Atlantic's Website](https://www.theatlantic.com/). We saw before that among the site, Donald Trump had become extremely talked about, much more so than any other presidential candidate.\n",
    "\n",
    "![](atlantic-word-count.png)\n",
    "\n",
    "I continued my analysis, looking at the 2016 year in its entirety.\n",
    "\n",
    "![](2016-word-count.png)"
   ]
  },
  {
   "cell_type": "markdown",
   "metadata": {},
   "source": [
    "# Twitter Patterns"
   ]
  },
  {
   "cell_type": "markdown",
   "metadata": {},
   "source": [
    "In order to understand exactly how both Clinton and Trump platformed, I downloaded archives of their last 3200 tweets.\n",
    "\n",
    "From this, I used Latent Dirichlet Allocation in order to understand the main topics both candidates emphasized. Note that these include recent tweets as well (since April 10th 2019).\n",
    "\n",
    "Topic # | Trump | Clinton\n",
    "------|--------|---------\n",
    "1 | The Supreme Court | The US Military\n",
    "2 | The American Whitehouse | The American People\n",
    "3 | The FBI Investigation | White Americans & Taxes\n",
    "4 | The House | Trump\n",
    "5 | The Russia Investigation | Colleges & Health Care\n",
    "6 | The Mexico-American Wall | Children\n",
    "7 | Trade with China | American Elections\n",
    "8 | American People | Climate Change & Democracy\n",
    "9 | North Korea | United States\n",
    "10 | Making America Great | A Clinton Presidency\n",
    "\n",
    "Some details are lost in this summary. For instance Trump often talks about himself with all the related topics. He puts special emphasis on the fact that *he's* the one to fix the problems. Whereas, Clinton often speaks in terms of the abstract."
   ]
  },
  {
   "cell_type": "markdown",
   "metadata": {},
   "source": [
    "# 2020 Democratic Primaries"
   ]
  },
  {
   "cell_type": "markdown",
   "metadata": {},
   "source": [
    "Now, let us look closer at some of the Democratic candidates for the 2020 election. I will be looking at data to see what can be done to improve each candidates campaign. To get an idea what each of these candidates primary interests are, I again mined their Twitter accounts and applied LDA.\n",
    "\n",
    "* **Beto O'Rourke** is largely concerned with his home state of Texas. But other broader issues seem to be focused on education and veterans affairs.\n",
    "\n",
    "* **Bernie Sanders** has a huge emphasis on the rich, middle class, and taxes. But also a large secondary interest in medical care.\n",
    "\n",
    "* **Elizabeth Warren** talks consistently about the presidential committee. Particular focus has been paid to Donald Trump and Steven Mnuchin. A lot of her other topics are about women's rights, financial markets, and current housing conditions.\n",
    "\n",
    "* **Andrew Yang** is a bit more of a niche entry compared to the rest, but discussions largely center around the economy and universal basic income (which is what he is known for). He also appears to be a big fan of Freakonomics."
   ]
  },
  {
   "cell_type": "code",
   "execution_count": null,
   "metadata": {},
   "outputs": [],
   "source": []
  }
 ],
 "metadata": {
  "kernelspec": {
   "display_name": "Python 3",
   "language": "python",
   "name": "python3"
  },
  "language_info": {
   "codemirror_mode": {
    "name": "ipython",
    "version": 3
   },
   "file_extension": ".py",
   "mimetype": "text/x-python",
   "name": "python",
   "nbconvert_exporter": "python",
   "pygments_lexer": "ipython3",
   "version": "3.7.1"
  }
 },
 "nbformat": 4,
 "nbformat_minor": 2
}
