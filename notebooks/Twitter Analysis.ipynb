{
 "cells": [
  {
   "cell_type": "code",
   "execution_count": 1,
   "metadata": {},
   "outputs": [],
   "source": [
    "import dill\n",
    "import pandas as pd\n",
    "from tqdm import tqdm\n",
    "import sys\n",
    "import pyLDAvis.sklearn\n",
    "import matplotlib.pyplot\n",
    "\n",
    "import warnings\n",
    "warnings.filterwarnings('ignore')\n",
    "\n",
    "sys.path.append('../scripts')\n",
    "\n",
    "import twitter\n",
    "import text_analysis\n",
    "\n",
    "#Look at topics related to #yanggang, #basicincome, and #ai\n",
    "basicincome_tweets = dill.load(open('../scrapped_data/twitter-data/basicincome_tweets.pkd', 'rb'))\n",
    "universalbasicincome_tweets = dill.load(open('../scrapped_data/twitter-data/universalbasicincome_tweets.pkd', 'rb'))\n",
    "yanggang_tweets = dill.load(open('../scrapped_data/twitter-data/yang_gang_tweets', 'rb'))\n",
    "ai_tweets = dill.load(open('../scrapped_data/twitter-data/ai_tweets.pkd', 'rb'))\n",
    "\n",
    "# Look at topics related to Trump, Fake News, and Political Correctness\n",
    "trump_tweets = dill.load(open('../scrapped_data/twitter-data/trump_tweets.pkd', 'rb'))\n",
    "fakenews_tweets = dill.load(open('../scrapped_data/twitter-data/fakenews_tweets.pkd', 'rb'))\n",
    "politicalcorrectness_tweets = dill.load(open('../scrapped_data/twitter-data/politicalcorrectness_tweets.pkd', 'rb'))\n",
    "\n",
    "# Bernie Tweets\n",
    "berniebros_tweets = dill.load(open('../scrapped_data/twitter-data/berniebros_tweets.pkd', 'rb'))"
   ]
  },
  {
   "cell_type": "markdown",
   "metadata": {},
   "source": [
    "# Some Initial EDA\n",
    "\n",
    "So let us do some initial exploratory data analysis. First, let us check what our common hashtags, and the platform they are coming from."
   ]
  },
  {
   "cell_type": "markdown",
   "metadata": {},
   "source": [
    "## Twitter Popularity\n",
    "Now, let us do a plot of our contestents Twitter activity. I will be measuring two quantitents\n",
    "\n",
    "1. Retweet count,\n",
    "2. favorite count.\n",
    "\n",
    "This will give a proxy for each one's popularity."
   ]
  },
  {
   "cell_type": "markdown",
   "metadata": {},
   "source": [
    "### Andrew Yang"
   ]
  },
  {
   "cell_type": "code",
   "execution_count": null,
   "metadata": {},
   "outputs": [],
   "source": [
    "andrew_yang_tweets = dill.load(open('../scrapped_data/twitter-data/yang-tweets.pkd', 'rb'))"
   ]
  },
  {
   "cell_type": "code",
   "execution_count": null,
   "metadata": {},
   "outputs": [],
   "source": [
    "df = pd.DataFrame({'date': [tweet.created_at for tweet in andrew_yang_tweets],\n",
    "                   'retweets': [tweet.retweet_count for tweet in andrew_yang_tweets],\n",
    "                   'favorite_count': [tweet.favorite_count for tweet in andrew_yang_tweets]})"
   ]
  },
  {
   "cell_type": "code",
   "execution_count": null,
   "metadata": {},
   "outputs": [],
   "source": [
    "df.plot(x='date', subplots=True, figsize=(16, 12))"
   ]
  },
  {
   "cell_type": "markdown",
   "metadata": {},
   "source": [
    "### Bernie Sanders"
   ]
  },
  {
   "cell_type": "code",
   "execution_count": null,
   "metadata": {},
   "outputs": [],
   "source": [
    "bernie_sanders_tweets = dill.load(open('../scrapped_data/twitter-data/sanders-tweets.pkd', 'rb'))"
   ]
  },
  {
   "cell_type": "code",
   "execution_count": null,
   "metadata": {},
   "outputs": [],
   "source": [
    "df = pd.DataFrame({'date': [tweet.created_at for tweet in bernie_sanders_tweets],\n",
    "                   'retweets': [tweet.retweet_count for tweet in bernie_sanders_tweets],\n",
    "                   'favorite_count': [tweet.favorite_count for tweet in bernie_sanders_tweets]})"
   ]
  },
  {
   "cell_type": "code",
   "execution_count": null,
   "metadata": {},
   "outputs": [],
   "source": [
    "df.plot(x='date', subplots=True, figsize=(16, 12))"
   ]
  },
  {
   "cell_type": "markdown",
   "metadata": {},
   "source": [
    "### Donald Trump"
   ]
  },
  {
   "cell_type": "code",
   "execution_count": null,
   "metadata": {},
   "outputs": [],
   "source": [
    "donald_trump_tweets = dill.load(open('../scrapped_data/twitter-data/trump_personal_tweets.pkd', 'rb'))"
   ]
  },
  {
   "cell_type": "code",
   "execution_count": null,
   "metadata": {},
   "outputs": [],
   "source": [
    "df = pd.DataFrame({'date': [tweet.created_at for tweet in donald_trump_tweets],\n",
    "                   'retweets': [tweet.retweet_count for tweet in donald_trump_tweets],\n",
    "                   'favorite_count': [tweet.favorite_count for tweet in donald_trump_tweets]})"
   ]
  },
  {
   "cell_type": "code",
   "execution_count": null,
   "metadata": {},
   "outputs": [],
   "source": [
    "df.plot(x='date', subplots=True, figsize=(16, 12))"
   ]
  },
  {
   "cell_type": "markdown",
   "metadata": {},
   "source": [
    "## Word Clouds"
   ]
  },
  {
   "cell_type": "code",
   "execution_count": null,
   "metadata": {},
   "outputs": [],
   "source": [
    "from wordcloud import WordCloud, STOPWORDS, ImageColorGenerator\n",
    "import matplotlib.pyplot as plt\n",
    "\n",
    "wordcloud = WordCloud(max_font_size=50, max_words=100).generate(' '.join([tweet.full_text for tweet in donald_trump_tweets]))\n",
    "\n",
    "plt.imshow(wordcloud, interpolation='bilinear')\n",
    "plt.axis(\"off\")\n",
    "plt.show()"
   ]
  },
  {
   "cell_type": "code",
   "execution_count": null,
   "metadata": {},
   "outputs": [],
   "source": [
    "wordcloud = WordCloud(max_font_size=50, max_words=100).generate(' '.join([tweet.full_text for tweet in andrew_yang_tweets]))\n",
    "\n",
    "plt.imshow(wordcloud, interpolation='bilinear')\n",
    "plt.axis(\"off\")\n",
    "plt.show()"
   ]
  },
  {
   "cell_type": "code",
   "execution_count": null,
   "metadata": {},
   "outputs": [],
   "source": [
    "wordcloud = WordCloud(max_font_size=50, max_words=100).generate(' '.join([tweet.full_text for tweet in bernie_sanders_tweets]))\n",
    "\n",
    "plt.imshow(wordcloud, interpolation='bilinear')\n",
    "plt.axis(\"off\")\n",
    "plt.show()"
   ]
  },
  {
   "cell_type": "markdown",
   "metadata": {},
   "source": [
    "# Topic Analysis\n",
    "\n",
    "Next, I gathered Twitter data related to several popular hashtags. The hashtags I chose as relavent are mostly pertinent to issues each campaigner brings up. They are as follows.\n",
    "\n",
    "1. Andrew Yang\n",
    "    * #universalbasicincome,\n",
    "    * #yanggang\n",
    "    \n",
    "\n",
    "2. Bernie Sanders\n",
    "    * #berniebros\n",
    "    \n",
    "\n",
    "3. Donald Trump\n",
    "    * #fakenews,\n",
    "    * #politicalcorrectness\n",
    "    * #trump\n",
    "    \n",
    "I used [ritetag](https://ritetag.com) to determine some of the hashtags I should be paying attention to. Note at the moment that issues Bernie Sanders is concerned with do not have nice simple hashtags that pop up. This makes EDA somewhat difficult in this case.\n",
    "\n",
    "First, let's do a basic plot of what kind of people these tweets are coming from."
   ]
  },
  {
   "cell_type": "code",
   "execution_count": null,
   "metadata": {},
   "outputs": [],
   "source": [
    "sources = ['Twitter for Android', 'Twitter for iPhone', 'Twitter for iPad', 'Twitter Web Client']\n",
    "\n",
    "basic = pd.DataFrame({'source': ['Andoid', 'iPhone', 'iPad', 'Web Client'],\n",
    "                      'basicincome': [[tweet.source for tweet in basicincome_tweets].count(s) for s in sources],\n",
    "                      'yanggang': [[tweet.source for tweet in yanggang_tweets].count(s) for s in sources],\n",
    "                      'trump': [[tweet.source for tweet in trump_tweets].count(s) for s in sources],\n",
    "                      'fakenews': [[tweet.source for tweet in fakenews_tweets].count(s) for s in sources],\n",
    "                      'politicalcorrectness': [[tweet.source for tweet in politicalcorrectness_tweets].count(s) for s in sources]})"
   ]
  },
  {
   "cell_type": "code",
   "execution_count": null,
   "metadata": {},
   "outputs": [],
   "source": [
    "import matplotlib.pyplot\n",
    "\n",
    "ax = basic.plot(kind='bar')\n",
    "ax.set_xticklabels(['Andoid', 'iPhone', 'iPad', 'Web Client'])"
   ]
  },
  {
   "cell_type": "markdown",
   "metadata": {},
   "source": [
    "There isn't any probably any series connection. We could do a $\\chi^2$-test to confirm this. The one exception would be is that \"Trump\" gathers a lot of iPhone users. This could be because Donald Trump, being known as a iPhone user, tweets a lot. Or it could be something inherent about iPhone users. I'm just asking questions here.\n",
    "\n",
    "Second, why not more love for the iPad?"
   ]
  },
  {
   "cell_type": "markdown",
   "metadata": {},
   "source": [
    "## Andrew Yang"
   ]
  },
  {
   "cell_type": "markdown",
   "metadata": {},
   "source": [
    "### Basic Income"
   ]
  },
  {
   "cell_type": "code",
   "execution_count": null,
   "metadata": {},
   "outputs": [],
   "source": [
    "text = twitter.Tweets(basicincome_tweets)\n",
    "\n",
    "wordcloud = WordCloud(max_font_size=50, max_words=100).generate(' '.join([tweet.full_text for tweet in basicincome_tweets]))\n",
    "\n",
    "plt.imshow(wordcloud, interpolation='bilinear')\n",
    "plt.axis(\"off\")\n",
    "plt.show()"
   ]
  },
  {
   "cell_type": "code",
   "execution_count": 2,
   "metadata": {},
   "outputs": [
    {
     "name": "stderr",
     "output_type": "stream",
     "text": [
      "100%|██████████| 4377/4377 [00:01<00:00, 3782.79it/s]\n"
     ]
    },
    {
     "data": {
      "text/html": [
       "\n",
       "<link rel=\"stylesheet\" type=\"text/css\" href=\"https://cdn.rawgit.com/bmabey/pyLDAvis/files/ldavis.v1.0.0.css\">\n",
       "\n",
       "\n",
       "<div id=\"ldavis_el154181397335335430645632518077\"></div>\n",
       "<script type=\"text/javascript\">\n",
       "\n",
       "var ldavis_el154181397335335430645632518077_data = {\"mdsDat\": {\"x\": [310.15631103515625, -104.23265075683594, -211.84031677246094, 59.53645324707031, -9.0745267868042, 98.35320281982422, 262.29888916015625, 154.5994415283203, -259.7290344238281, -47.95906066894531], \"y\": [15.074718475341797, -183.0147247314453, 168.06137084960938, -303.3964538574219, 266.32403564453125, -76.13986206054688, -205.10394287109375, 145.85549926757812, -52.12272262573242, 39.01621627807617], \"topics\": [1, 2, 3, 4, 5, 6, 7, 8, 9, 10], \"cluster\": [1, 1, 1, 1, 1, 1, 1, 1, 1, 1], \"Freq\": [13.366734868121736, 13.0091626282063, 12.889609876591393, 11.646883169992908, 11.358978923707557, 8.677356609424283, 7.453853560514427, 7.304622640508843, 7.255586146194861, 7.0372115767377075]}, \"tinfo\": {\"Category\": [\"Default\", \"Default\", \"Default\", \"Default\", \"Default\", \"Default\", \"Default\", \"Default\", \"Default\", \"Default\", \"Default\", \"Default\", \"Default\", \"Default\", \"Default\", \"Default\", \"Default\", \"Default\", \"Default\", \"Default\", \"Default\", \"Default\", \"Default\", \"Default\", \"Default\", \"Default\", \"Default\", \"Default\", \"Default\", \"Default\", \"Topic1\", \"Topic1\", \"Topic1\", \"Topic1\", \"Topic1\", \"Topic1\", \"Topic1\", \"Topic1\", \"Topic1\", \"Topic1\", \"Topic1\", \"Topic1\", \"Topic1\", \"Topic1\", \"Topic1\", \"Topic1\", \"Topic1\", \"Topic1\", \"Topic1\", \"Topic1\", \"Topic1\", \"Topic1\", \"Topic1\", \"Topic1\", \"Topic1\", \"Topic1\", \"Topic1\", \"Topic1\", \"Topic1\", \"Topic1\", \"Topic1\", \"Topic1\", \"Topic1\", \"Topic1\", \"Topic1\", \"Topic1\", \"Topic1\", \"Topic1\", \"Topic1\", \"Topic1\", \"Topic1\", \"Topic1\", \"Topic1\", \"Topic1\", \"Topic1\", \"Topic2\", \"Topic2\", \"Topic2\", \"Topic2\", \"Topic2\", \"Topic2\", \"Topic2\", \"Topic2\", \"Topic2\", \"Topic2\", \"Topic2\", \"Topic2\", \"Topic2\", \"Topic2\", \"Topic2\", \"Topic2\", \"Topic2\", \"Topic2\", \"Topic2\", \"Topic2\", \"Topic2\", \"Topic2\", \"Topic2\", \"Topic2\", \"Topic2\", \"Topic2\", \"Topic2\", \"Topic2\", \"Topic2\", \"Topic2\", \"Topic2\", \"Topic2\", \"Topic2\", \"Topic2\", \"Topic2\", \"Topic2\", \"Topic2\", \"Topic2\", \"Topic2\", \"Topic2\", \"Topic2\", \"Topic2\", \"Topic2\", \"Topic2\", \"Topic2\", \"Topic2\", \"Topic2\", \"Topic2\", \"Topic2\", \"Topic2\", \"Topic3\", \"Topic3\", \"Topic3\", \"Topic3\", \"Topic3\", \"Topic3\", \"Topic3\", \"Topic3\", \"Topic3\", \"Topic3\", \"Topic3\", \"Topic3\", \"Topic3\", \"Topic3\", \"Topic3\", \"Topic3\", \"Topic3\", \"Topic3\", \"Topic3\", \"Topic3\", \"Topic3\", \"Topic3\", \"Topic3\", \"Topic3\", \"Topic3\", \"Topic3\", \"Topic3\", \"Topic3\", \"Topic3\", \"Topic3\", \"Topic3\", \"Topic3\", \"Topic3\", \"Topic3\", \"Topic3\", \"Topic3\", \"Topic3\", \"Topic3\", \"Topic3\", \"Topic3\", \"Topic3\", \"Topic3\", \"Topic3\", \"Topic3\", \"Topic3\", \"Topic3\", \"Topic3\", \"Topic3\", \"Topic3\", \"Topic3\", \"Topic4\", \"Topic4\", \"Topic4\", \"Topic4\", \"Topic4\", \"Topic4\", \"Topic4\", \"Topic4\", \"Topic4\", \"Topic4\", \"Topic4\", \"Topic4\", \"Topic4\", \"Topic4\", \"Topic4\", \"Topic4\", \"Topic4\", \"Topic4\", \"Topic4\", \"Topic4\", \"Topic4\", \"Topic4\", \"Topic4\", \"Topic4\", \"Topic4\", \"Topic4\", \"Topic4\", \"Topic4\", \"Topic4\", \"Topic4\", \"Topic4\", \"Topic4\", \"Topic4\", \"Topic4\", \"Topic4\", \"Topic4\", \"Topic4\", \"Topic4\", \"Topic4\", \"Topic4\", \"Topic4\", \"Topic4\", \"Topic4\", \"Topic4\", \"Topic5\", \"Topic5\", \"Topic5\", \"Topic5\", \"Topic5\", \"Topic5\", \"Topic5\", \"Topic5\", \"Topic5\", \"Topic5\", \"Topic5\", \"Topic5\", \"Topic5\", \"Topic5\", \"Topic5\", \"Topic5\", \"Topic5\", \"Topic5\", \"Topic5\", \"Topic5\", \"Topic5\", \"Topic5\", \"Topic5\", \"Topic5\", \"Topic5\", \"Topic5\", \"Topic5\", \"Topic5\", \"Topic5\", \"Topic5\", \"Topic5\", \"Topic5\", \"Topic5\", \"Topic5\", \"Topic5\", \"Topic5\", \"Topic5\", \"Topic5\", \"Topic5\", \"Topic5\", \"Topic5\", \"Topic5\", \"Topic5\", \"Topic5\", \"Topic5\", \"Topic5\", \"Topic6\", \"Topic6\", \"Topic6\", \"Topic6\", \"Topic6\", \"Topic6\", \"Topic6\", \"Topic6\", \"Topic6\", \"Topic6\", \"Topic6\", \"Topic6\", \"Topic6\", \"Topic6\", \"Topic6\", \"Topic6\", \"Topic6\", \"Topic6\", \"Topic6\", \"Topic6\", \"Topic6\", \"Topic6\", \"Topic6\", \"Topic6\", \"Topic6\", \"Topic6\", \"Topic6\", \"Topic6\", \"Topic6\", \"Topic6\", \"Topic6\", \"Topic6\", \"Topic6\", \"Topic6\", \"Topic6\", \"Topic6\", \"Topic6\", \"Topic6\", \"Topic6\", \"Topic6\", \"Topic6\", \"Topic6\", \"Topic6\", \"Topic6\", \"Topic7\", \"Topic7\", \"Topic7\", \"Topic7\", \"Topic7\", \"Topic7\", \"Topic7\", \"Topic7\", \"Topic7\", \"Topic7\", \"Topic7\", \"Topic7\", \"Topic7\", \"Topic7\", \"Topic7\", \"Topic7\", \"Topic7\", \"Topic7\", \"Topic7\", \"Topic7\", \"Topic7\", \"Topic7\", \"Topic7\", \"Topic7\", \"Topic7\", \"Topic7\", \"Topic7\", \"Topic7\", \"Topic7\", \"Topic7\", \"Topic7\", \"Topic7\", \"Topic7\", \"Topic7\", \"Topic7\", \"Topic7\", \"Topic7\", \"Topic7\", \"Topic7\", \"Topic7\", \"Topic7\", \"Topic8\", \"Topic8\", \"Topic8\", \"Topic8\", \"Topic8\", \"Topic8\", \"Topic8\", \"Topic8\", \"Topic8\", \"Topic8\", \"Topic8\", \"Topic8\", \"Topic8\", \"Topic8\", \"Topic8\", \"Topic8\", \"Topic8\", \"Topic8\", \"Topic8\", \"Topic8\", \"Topic8\", \"Topic8\", \"Topic8\", \"Topic8\", \"Topic8\", \"Topic8\", \"Topic8\", \"Topic8\", \"Topic8\", \"Topic8\", \"Topic8\", \"Topic8\", \"Topic8\", \"Topic8\", \"Topic8\", \"Topic8\", \"Topic8\", \"Topic8\", \"Topic8\", \"Topic8\", \"Topic8\", \"Topic9\", \"Topic9\", \"Topic9\", \"Topic9\", \"Topic9\", \"Topic9\", \"Topic9\", \"Topic9\", \"Topic9\", \"Topic9\", \"Topic9\", \"Topic9\", \"Topic9\", \"Topic9\", \"Topic9\", \"Topic9\", \"Topic9\", \"Topic9\", \"Topic9\", \"Topic9\", \"Topic9\", \"Topic9\", \"Topic9\", \"Topic9\", \"Topic9\", \"Topic9\", \"Topic9\", \"Topic9\", \"Topic9\", \"Topic9\", \"Topic9\", \"Topic9\", \"Topic9\", \"Topic9\", \"Topic9\", \"Topic9\", \"Topic9\", \"Topic9\", \"Topic9\", \"Topic9\", \"Topic9\", \"Topic9\", \"Topic10\", \"Topic10\", \"Topic10\", \"Topic10\", \"Topic10\", \"Topic10\", \"Topic10\", \"Topic10\", \"Topic10\", \"Topic10\", \"Topic10\", \"Topic10\", \"Topic10\", \"Topic10\", \"Topic10\", \"Topic10\", \"Topic10\", \"Topic10\", \"Topic10\", \"Topic10\", \"Topic10\", \"Topic10\", \"Topic10\", \"Topic10\", \"Topic10\", \"Topic10\", \"Topic10\", \"Topic10\", \"Topic10\", \"Topic10\", \"Topic10\", \"Topic10\", \"Topic10\", \"Topic10\", \"Topic10\", \"Topic10\", \"Topic10\"], \"Freq\": [922.0, 1027.0, 737.0, 342.0, 467.0, 315.0, 293.0, 412.0, 283.0, 179.0, 290.0, 187.0, 186.0, 289.0, 369.0, 183.0, 177.0, 139.0, 200.0, 163.0, 170.0, 2599.0, 161.0, 163.0, 200.0, 156.0, 181.0, 175.0, 183.0, 135.0, 162.61882599805955, 111.29661559954664, 105.19340787734019, 105.14572668756354, 101.88291826955528, 101.88289826596875, 100.75615818705127, 93.63691746517806, 76.3131424573253, 71.6369271153935, 56.92755913824517, 56.927552760087266, 56.84343313187904, 39.78445839631119, 38.97442263581741, 37.664176573889236, 37.87773825069534, 33.85310345308303, 32.36765452962831, 29.763084685109927, 29.29215791705127, 28.984230841940093, 24.27145155511844, 23.565601302292155, 21.467285572497623, 21.28233170616644, 20.747058632997007, 18.788716409474784, 18.41762427408451, 18.30681083199947, 828.9081676839849, 823.4501943875845, 381.78926548224064, 170.07490416939353, 124.00946578613937, 25.87105849503295, 132.939564629242, 30.49056722443879, 37.55619180950095, 44.15378563438579, 463.0340414591762, 66.18235498741653, 337.06617337050034, 43.1626878092951, 49.25962437938435, 169.57349741529117, 160.90983710208874, 155.8132061964334, 83.238271923935, 49.09577760722416, 48.01605199375744, 44.0625617301024, 42.459944722107565, 39.13177796358032, 37.23206560916714, 37.031484993566245, 36.9155409916718, 36.88019589237614, 36.39494838594642, 34.99356272850303, 34.993554567796906, 34.151066712080365, 33.09678768195081, 31.168446308289145, 31.241007480306955, 31.13039744075285, 30.5791842729874, 29.086489025375457, 28.046725278304525, 27.859587414815564, 26.758921775419015, 24.726266830950163, 24.334500863482816, 23.266335793486398, 22.508059025648, 158.36259072047324, 39.728778188997474, 490.6891644957153, 201.37177126421977, 97.0325400008981, 648.7729112243427, 46.31304477521173, 52.19687141077551, 65.5864928079427, 56.938676884314475, 53.386715069852585, 320.0778382199835, 59.60837924595206, 40.878181435622984, 45.04414693849237, 68.40613428752144, 76.11842950611968, 52.261968316167426, 37.095656645412994, 37.05244008338543, 183.01941056306933, 135.57142985335136, 102.44642839934279, 100.72859482369512, 74.09128869367233, 69.57257275836105, 67.59187061198652, 64.438072937684, 63.801053940272666, 58.915965872624746, 56.67650511399174, 55.81005211730188, 54.00954327249247, 53.63472509887445, 50.13664665500437, 47.637070829630765, 46.16392232087257, 43.15725591314458, 41.29946013595914, 41.15571499832025, 41.12047350582264, 38.04203919582532, 31.739861607002815, 29.972406978764226, 29.974861478381516, 29.97473765379999, 29.95623959534785, 28.808550446938582, 27.918012100734067, 27.07827147631125, 277.55080982643807, 56.80403390023951, 33.25104542274724, 184.82930791275336, 64.74526558155708, 73.51344504285058, 76.41237692994335, 91.69869555550159, 83.26604133778493, 390.4292821490445, 64.77776309538754, 266.01987369569815, 139.8138948205594, 74.61627142395307, 63.44673550226293, 92.67265715658077, 56.81486808189682, 59.42226180773313, 61.16641591951486, 60.10767291415199, 185.60791559788652, 162.6080558435459, 134.2798015475838, 108.909055964459, 98.2883090148185, 92.31254606742682, 92.17505800573558, 90.95892413593704, 75.0736862466193, 68.99815297332708, 66.87897648009212, 63.239892467629055, 63.39131744424618, 61.23512302333267, 60.6470779717628, 59.76693052780489, 56.06079711436375, 55.77980304006354, 55.60164258035176, 54.12814262341666, 53.84455122306445, 52.7138236119072, 52.59974425020152, 51.89432076315432, 51.65447498143577, 49.16208211020236, 48.455170131717345, 48.45517008267136, 48.455170150748714, 48.26814409886802, 312.1203618734132, 255.65472072757441, 78.34145958144639, 79.79018055624438, 81.32831821934319, 78.0401503179531, 215.86662589287303, 304.7532584383993, 64.6143302951527, 92.8051607982057, 135.65332259800985, 64.59206662386899, 59.16976616277744, 58.38690585771872, 131.06813776576556, 92.3105693945862, 66.8805071140763, 66.72277451306039, 65.02013220082502, 57.28881295394403, 49.34266387995488, 46.97843967029524, 45.84742971396848, 43.60749985374036, 42.74514075717577, 37.00868666949742, 36.89158939728679, 36.81351192113717, 34.46695168507324, 33.11152833815802, 32.327950803063715, 32.14823411306879, 29.780613696308823, 28.703432428082518, 28.204935098511505, 27.963843083507726, 27.812647735758272, 26.81733888660078, 26.442705099700948, 25.31932877683956, 25.02324806742094, 24.98939597827414, 23.824857148081932, 23.040401390124217, 48.973655999244535, 60.43968559821721, 58.420561179518494, 405.60222020610024, 43.79511916812797, 109.29179744285835, 169.42348382546538, 59.13165693175609, 95.14214216478108, 229.4181966579235, 36.884167686282076, 57.18174401349179, 89.29689414761222, 43.22153225772298, 62.01782621825945, 41.77958770532671, 113.35769820421592, 94.96760390906292, 82.42862601162558, 50.2770004399179, 48.982538354255894, 45.022459370992685, 43.556938331495644, 42.7408694265496, 33.088879175367225, 31.49196619469477, 30.900136037456015, 30.70707904494815, 29.26024318906666, 29.08572428391468, 28.214908720827232, 28.011794924671836, 26.232192434548814, 25.888724108377545, 25.465612932524564, 25.122264802637503, 24.345317418600473, 23.432320366368305, 21.690990432653177, 20.730906161721755, 20.586525002386555, 19.288180124640448, 18.571288238095455, 17.71848450298928, 17.634118394498437, 17.588437147107154, 174.31750544637012, 151.6226464155798, 50.43240010931911, 81.05121659733052, 24.862128667529902, 32.09996496286014, 82.85648408595418, 89.23414570287075, 237.66539390592686, 223.0111416634043, 44.58219069013134, 69.42786576642663, 28.163995198991923, 50.871847207762144, 65.64238815714425, 61.779081433955575, 59.036753593217, 45.173886589419006, 44.88879034406502, 45.10769629637542, 42.59976982248168, 41.335844636333555, 41.197787871560756, 38.9506483817877, 36.93460389064006, 33.57747867461953, 33.54158729690797, 33.42688281194292, 31.610717418089646, 30.618800501631583, 30.493757388350566, 26.736019326673535, 26.091164557496487, 24.603279433558715, 24.386578697585318, 24.386577919897135, 23.730483765013872, 23.08322566554205, 22.623323741318394, 22.00661718293311, 18.995788293268845, 18.076142093353933, 17.344268253983195, 17.16560527951786, 159.20659594496792, 104.49560834942535, 35.182420758822005, 76.27570842811882, 53.21571170441888, 212.8407018683645, 203.54751005865327, 48.9604780318143, 34.392609707201096, 48.556704780953744, 29.101024889335726, 178.60672824016885, 101.85060265288845, 65.36644494061801, 63.0991047948587, 50.791957726730566, 48.33301017254961, 46.18631718927975, 41.631734884142034, 38.52754517989182, 35.31537149287446, 34.51979376083617, 32.573976926597105, 31.34530214336742, 31.005951473715623, 26.372026921421742, 25.545361682309217, 26.45533492261751, 24.848414081954456, 24.485124580587133, 24.16845697181713, 24.137572072680154, 23.148766085165004, 23.0723518833249, 22.558708259719985, 22.405367366343455, 22.123306349825306, 20.92553763317267, 20.89314240874095, 19.895315218158906, 19.805962671209603, 39.16219699757924, 47.22191850241584, 85.02500834408085, 45.62416780941686, 72.55686121777302, 178.38651949966402, 171.60170330586953, 28.17242320313431, 29.430045371681214, 29.011944532352768, 24.88072932429365, 139.05587140486784, 108.71622162323081, 64.02001928328716, 58.01839901571444, 56.008744477352224, 49.17119120554801, 43.804195086669154, 42.9243041191595, 42.1576828855972, 41.26318630886445, 38.089801910435156, 37.556427947790205, 35.43662017130588, 33.41008875463069, 32.10061612258838, 30.41792098822314, 29.964962211767823, 28.45881185648532, 27.68131272156406, 27.319581989293752, 24.0053858096191, 23.919950540646038, 23.66593185810818, 23.562908956171633, 23.113145328839853, 23.08981905503575, 23.08981920243725, 23.089819152876476, 22.287817346452357, 22.261904683732677, 102.49198313270786, 59.584056369445236, 129.69767368128836, 166.8964373266952, 174.34326805800262, 60.4443907650911, 92.13641296994007, 37.49024372139321, 203.85345412877626, 43.20850625101474, 35.98091025162802, 35.8014019578305, 104.37419706112279, 87.50417869554269, 82.07067226223275, 81.02686550256132, 79.19995229129502, 71.62250720054736, 58.00349146790587, 49.869185216447406, 47.985095520130486, 46.54684536901951, 45.49086679689292, 44.26242125867242, 40.31466166141579, 35.55779935072179, 35.41837400701029, 32.56417877743344, 32.19974528667148, 31.34724310521631, 31.242674083433748, 29.857793485866512, 28.001297640452623, 26.699926517647818, 26.434767443497773, 25.9506125231835, 25.679989011604484, 25.679967726265286, 25.581523354509763, 25.409659740346843, 25.387176308882875, 24.87408463634325, 76.77887327549611, 41.17667664112209, 64.4624167061874, 200.3663623939894, 190.58657715048193, 51.63488648841597, 28.457410645381174], \"Term\": [\"basic\", \"income\", \"ubi\", \"work\", \"universal\", \"baseincomequote\", \"job\", \"people\", \"poverty\", \"amp\", \"need\", \"year\", \"news\", \"andrewyang\", \"new\", \"tax\", \"automation\", \"financial\", \"know\", \"happy\", \"universalbasicincome\", \"basicincome\", \"subreddit\", \"finland\", \"program\", \"yanggang\", \"pay\", \"yang2020\", \"money\", \"start\", \"finland\", \"success\", \"pe\", \"recipient\", \"widely\", \"strain\", \"progresscdn\", \"experiment\", \"status\", \"adult\", \"marital\", \"regardless\", \"greenpartyus\", \"value\", \"18\", \"interview\", \"preliminary\", \"forbes\", \"blockchain\", \"receive\", \"cbinscot\", \"lend\", \"institutional\", \"listen\", \"data\", \"lindsayontario\", \"finnish\", \"senior\", \"russia\", \"short\", \"basic\", \"income\", \"universal\", \"program\", \"citizen\", \"scott\", \"basicincomecdn\", \"stand\", \"relate\", \"late\", \"rt\", \"employment\", \"basicincome\", \"support\", \"scottsantens\", \"universalbasicincome\", \"subreddit\", \"yanggang\", \"ubicardiff\", \"cnn\", \"twitter\", \"effective\", \"plan\", \"capitalism\", \"bge\", \"california\", \"fascinate\", \"answer\", \"founder\", \"dorsey\", \"jack\", \"redistri\", \"explain\", \"online\", \"tonight\", \"guy\", \"woman\", \"depend\", \"2019\", \"actually\", \"faganwrites\", \"family\", \"word\", \"myths\", \"intelligence\", \"yang2020\", \"cnntownhall\", \"ubi\", \"new\", \"world\", \"basicincome\", \"life\", \"yangtownhall\", \"thebasicincome\", \"great\", \"freedomdividend\", \"rt\", \"way\", \"change\", \"want\", \"people\", \"scottsantens\", \"idea\", \"baseincomequote\", \"job\", \"tax\", \"increase\", \"result\", \"health\", \"presidential\", \"power\", \"imagine\", \"berniesanders\", \"real\", \"threat\", \"ability\", \"enhance\", \"american\", \"hope\", \"end\", \"usa\", \"close\", \"insurance\", \"attention\", \"human\", \"growi\", \"poll\", \"usatoday\", \"class\", \"email\", \"request\", \"mdelbranson\", \"sup\", \"state\", \"wealth\", \"baseincomequote\", \"refuse\", \"survey\", \"andrewyang\", \"today\", \"candidate\", \"inequality\", \"support\", \"come\", \"rt\", \"live\", \"basicincome\", \"scottsantens\", \"money\", \"right\", \"ubi\", \"economy\", \"pay\", \"need\", \"people\", \"news\", \"happy\", \"start\", \"unconditional\", \"wrong\", \"government\", \"impact\", \"medium\", \"effect\", \"week\", \"negative\", \"consider\", \"exist\", \"modern\", \"development\", \"brain\", \"research\", \"exponentially\", \"friend\", \"slave\", \"determine\", \"fit\", \"unable\", \"sense\", \"blog\", \"finding\", \"2013\", \"var\", \"compile\", \"smedian_network\", \"work\", \"job\", \"story\", \"guarantee\", \"movement\", \"read\", \"scottsantens\", \"rt\", \"economics\", \"poverty\", \"basicincome\", \"basicincomecdn\", \"little\", \"idea\", \"000\", \"society\", \"problem\", \"benefit\", \"paper\", \"far\", \"grow\", \"propose\", \"india\", \"solve\", \"youth\", \"break\", \"thanks\", \"odsp\", \"step\", \"disability\", \"young\", \"case\", \"strike\", \"problems\", \"happen\", \"daily\", \"low\", \"pharmacist\", \"humanity\", \"biggest\", \"city\", \"odspaction\", \"conditional\", \"wage\", \"good\", \"provide\", \"pilot\", \"basicincome\", \"policy\", \"people\", \"income\", \"help\", \"new\", \"rt\", \"dividend\", \"basicincomeorg\", \"basic\", \"time\", \"ubi\", \"like\", \"yang\", \"andrew\", \"ask\", \"thing\", \"feel\", \"tell\", \"vote\", \"compare\", \"bernie\", \"possibility\", \"general\", \"alaska\", \"aut\", \"laresistance\", \"mathieu_samsav\", \"grundeinkommen\", \"harvesting\", \"sanders\", \"alberta\", \"train\", \"strawberry\", \"key\", \"cdnpoli\", \"basicin\", \"payment\", \"larrycohen\", \"monetary\", \"continue\", \"ago\", \"course\", \"year\", \"automation\", \"question\", \"like\", \"lot\", \"ontario\", \"look\", \"andrewyang\", \"rt\", \"basicincome\", \"time\", \"need\", \"yes\", \"ubi\", \"free\", \"day\", \"use\", \"ford\", \"link\", \"suffer\", \"report\", \"women4ubi\", \"basicincomeimg\", \"participation\", \"decouple\", \"percent\", \"100\", \"add\", \"corporation\", \"team\", \"billion\", \"trillion\", \"compassoffice\", \"sure\", \"involvement\", \"voice\", \"w_stronge\", \"huge\", \"invest\", \"extra\", \"htt\", \"drop\", \"asset\", \"foreign\", \"need\", \"pay\", \"fund\", \"right\", \"freedom\", \"rt\", \"basicincome\", \"employment\", \"mean\", \"scottsantens\", \"rbasicincome\", \"amp\", \"eliminate\", \"event\", \"join\", \"able\", \"bring\", \"natalieben\", \"wales\", \"net\", \"foundation\", \"gt\", \"solidly\", \"sk\", \"century\", \"basicincwales\", \"june\", \"oil\", \"hear\", \"difference\", \"21st\", \"fyeg\", \"potential\", \"shift\", \"gef_europe\", \"party\", \"explore\", \"gef\", \"wee\", \"standing\", \"highlight\", \"talk\", \"social\", \"think\", \"cost\", \"come\", \"rt\", \"basicincome\", \"podcast\", \"want\", \"scottsantens\", \"look\", \"financial\", \"poor\", \"solution\", \"fact\", \"try\", \"humanvsmachine\", \"kid\", \"reach\", \"m1\", \"voucher\", \"fail\", \"hide\", \"floor\", \"canadian\", \"away\", \"trust\", \"200\", \"different\", \"numb\", \"f\\u00fcr\", \"der\", \"menschen\", \"insolvency\", \"drive\", \"48\", \"m1voucher\", \"unswissindo\", \"dblc\", \"miss\", \"climb\", \"month\", \"rich\", \"know\", \"poverty\", \"people\", \"mean\", \"money\", \"classfirster\", \"rt\", \"think\", \"little\", \"scottsantens\", \"korea\", \"10\", \"15\", \"million\", \"set\", \"unreas\", \"datum\", \"south\", \"170\", \"province\", \"post\", \"gyeonggi\", \"graphic\", \"excellent\", \"argument\", \"fix\", \"auf\", \"build\", \"oecd\", \"response\", \"ireland\", \"trial\", \"intention\", \"sheffield\", \"pre\", \"standouts\", \"simonjduffy\", \"english\", \"old\", \"united\", \"machine\", \"country\", \"basicincomeorg\", \"rt\", \"basicincome\", \"new\", \"inequality\"], \"Total\": [922.0, 1027.0, 737.0, 342.0, 467.0, 315.0, 293.0, 412.0, 283.0, 179.0, 290.0, 187.0, 186.0, 289.0, 369.0, 183.0, 177.0, 139.0, 200.0, 163.0, 170.0, 2599.0, 161.0, 163.0, 200.0, 156.0, 181.0, 175.0, 183.0, 135.0, 163.481700490772, 112.15956323452022, 106.05636064440372, 106.00938508695799, 102.74578888252225, 102.74578931760107, 101.61903266471768, 94.50193563123989, 77.17604302305641, 72.49978966224761, 57.79037748747655, 57.7903776552653, 57.70626049774717, 40.64746439609896, 39.83744958870502, 38.5271155966146, 38.74643701171152, 34.71599888588125, 33.23068474111902, 30.62598773061217, 30.15553795044763, 29.84730622937049, 25.135441786291608, 24.428559412112474, 22.330374882358235, 22.14536875565827, 21.610145221096314, 19.65163249201495, 19.280667375778773, 19.169791824580745, 922.511659691924, 1027.2702297161627, 467.7523774988577, 200.4473218148634, 148.86959869575043, 27.54542710919942, 198.30071485365914, 34.0101987585859, 46.24965706101908, 58.86645988956123, 2740.825048721248, 122.6579223925307, 2599.4590206021544, 135.62849303120964, 653.0994574770004, 170.4328898081461, 161.76854683446246, 156.6715609563259, 84.09650358558623, 49.95494387747287, 48.874252461509414, 44.92113160757632, 43.31833284671227, 39.99010612026572, 38.09040465983502, 37.88980453282824, 37.77373469697265, 37.73877480779183, 37.25315967096118, 35.851746353724316, 35.85174659912896, 35.009253321953125, 33.955197338309965, 32.02728061262211, 32.10235502061089, 31.988817025077402, 31.437716314171134, 29.96056006047613, 28.90522566505138, 28.718386021784674, 27.617371410320896, 25.584598005131866, 25.19298535129448, 24.12451640495799, 23.36632352791313, 175.0456831969853, 42.190326975229524, 737.3731326944253, 369.9225531545573, 150.98832353974757, 2599.4590206021544, 60.476735654929186, 72.55904195622608, 110.48903636235633, 90.3540521006839, 86.40699004700454, 2740.825048721248, 110.03752705944173, 56.79630811517309, 84.7594689025853, 412.7218891710817, 653.0994574770004, 189.09459844893433, 315.4180420304507, 293.47266068273655, 183.8767197439952, 136.4320175439913, 103.30355130933687, 101.58563118822283, 74.94836960026831, 70.4292599793815, 68.44856816833523, 65.29483229198014, 64.65773949088337, 59.77262034250581, 57.533146707463644, 56.66669048601919, 54.8666066050989, 54.50458701064709, 50.99384660190869, 48.49416578106446, 47.021748239315684, 44.01456365875469, 42.15636172531026, 42.01243814246825, 41.98175095963027, 38.9017640874271, 32.64274880137516, 30.82911780393171, 30.831749198561482, 30.831742725146874, 30.813253840333985, 29.66564430974569, 28.774943066134874, 27.935086529489407, 315.4180420304507, 60.88977498411878, 34.69276138366644, 289.4995167742574, 82.54531046816734, 97.34220534537005, 105.62593899839979, 135.62849303120964, 156.58032775761367, 2740.825048721248, 112.101541749396, 2599.4590206021544, 653.0994574770004, 183.2148504840898, 140.487249699505, 737.3731326944253, 98.59084482703469, 181.43879691529514, 290.4811982527058, 412.7218891710817, 186.46710348343936, 163.46737318964108, 135.1390295454991, 109.76812618854366, 99.14729308756385, 93.1717193269101, 93.03590710395179, 91.81787206244529, 75.93516977182139, 69.86204519058973, 67.7394263445554, 64.09893048191962, 64.25965675745354, 62.094083727434594, 61.506214735159794, 60.625889608468086, 56.91980945539008, 56.63926440422687, 56.46059770175352, 54.98709296793788, 54.70351874319196, 53.5727837959644, 53.45870360227905, 52.75330044191412, 52.51346555612006, 50.021027688776094, 49.31411469809542, 49.31411495104386, 49.31411561767427, 49.12709292983177, 342.4634091303916, 293.47266068273655, 87.0113386018514, 92.94250599015966, 102.57094575428998, 104.0947531550895, 653.0994574770004, 2740.825048721248, 86.43855818549464, 283.162079913944, 2599.4590206021544, 198.30071485365914, 97.7652093587748, 189.09459844893433, 131.93737059186628, 93.17035526328792, 67.74022646725898, 67.58241443641661, 65.879847701713, 58.14865888305982, 50.2072686807564, 47.84046864591666, 46.707059908618454, 44.46708161862053, 43.604742086272175, 37.86833610910217, 37.75158836876228, 37.673193910120766, 35.328987679438086, 33.97113340583524, 33.18800726713287, 33.00789014436984, 30.64082876525991, 29.56298232879936, 29.064573706485454, 28.823489886346607, 28.67331090501712, 27.677434116306635, 27.302573711215853, 26.178921125591568, 25.8829213952439, 25.848953251877976, 24.68449518759885, 23.900094112559817, 58.785991281098646, 82.78940055926688, 84.2604093307976, 2599.4590206021544, 66.82910200831958, 412.7218891710817, 1027.2702297161627, 136.65198213504118, 369.9225531545573, 2740.825048721248, 51.876661380147674, 166.20537976908474, 922.511659691924, 97.39254030457336, 737.3731326944253, 123.59726999406172, 114.21746539783382, 95.82718488519316, 83.28817859727259, 51.13658406519705, 49.842142804272044, 45.8822641019089, 44.416634856042265, 43.60073981233448, 33.94956123068569, 32.36232821167666, 31.761319675068698, 31.579778031242455, 30.12084595537662, 29.949522634695974, 29.076651236136396, 28.8719357670245, 27.096002619047276, 26.749839351642006, 26.32548371900648, 25.981811357372184, 25.207209196718637, 24.307123024930966, 22.55071814993832, 21.59047734664432, 21.45422696210177, 20.165660064514988, 19.430889420915314, 18.578092628633243, 18.493758695875172, 18.44809085830125, 187.00965372508915, 177.89380786813777, 65.67397689464474, 123.59726999406172, 28.0090122616909, 39.044205938429506, 140.7235275830507, 289.4995167742574, 2740.825048721248, 2599.4590206021544, 97.39254030457336, 290.4811982527058, 40.0805248702257, 737.3731326944253, 66.50038141648125, 62.637116253360674, 59.89516205406955, 46.03211228471902, 45.7467773949995, 45.97212412776877, 43.457682495516586, 42.193821219519016, 42.05563747688024, 39.808556378713895, 37.79253103452188, 34.435316669700484, 34.39969988609219, 34.28479855812411, 32.46861672490879, 31.47680372342941, 31.351655920073508, 27.59390511400955, 26.949501156193584, 25.461130441702547, 25.2444458390001, 25.244445184114937, 24.58875864112896, 23.947743676805693, 23.48117700098689, 22.86482690475121, 19.854106490775795, 18.93446017703059, 18.202690176755922, 18.02382806594741, 290.4811982527058, 181.43879691529514, 46.23653445557197, 140.487249699505, 94.06575571939389, 2740.825048721248, 2599.4590206021544, 122.6579223925307, 95.59929006741169, 653.0994574770004, 66.45014423819538, 179.47844766117782, 102.70444346894435, 66.22016587647146, 63.95283665097501, 51.645615821622684, 49.18678916770613, 47.03991388805037, 42.48539842443348, 39.38128910708753, 36.16904296469839, 35.37347982178807, 33.430093625914566, 32.20732034021912, 31.859561893390765, 27.225655435178403, 26.398996356066505, 27.34982721788122, 25.702539883478263, 25.339130014597192, 25.022056135594063, 24.99116185234205, 24.002391431375656, 23.926762503267632, 23.412333754385195, 23.259046945535903, 22.977185887948842, 21.77914092017377, 21.746747490533163, 20.749120203148703, 20.65968256770505, 49.35909043023016, 64.46041193415029, 165.3165858284757, 72.13786961630811, 156.58032775761367, 2740.825048721248, 2599.4590206021544, 39.62277045600291, 84.7594689025853, 653.0994574770004, 140.7235275830507, 139.9137532120868, 109.62898183606949, 64.8772715548935, 58.875753295661085, 56.866258606608675, 50.0285152228603, 44.66409178017315, 43.79148652459059, 43.01490100373411, 42.12041103672909, 38.94717670220041, 38.4136825796536, 36.29395428403449, 34.26751764080435, 32.9580347812861, 31.275187854055094, 30.83042439779409, 29.317788636055692, 28.538684062327636, 28.17682266330224, 24.86262066428313, 24.777147893886163, 24.523227314646245, 24.420158116167904, 23.97040398161023, 23.947018056539807, 23.947018923482627, 23.947019088330993, 23.145243201351896, 23.11915556707447, 111.12270893772546, 65.01361976354953, 200.93959610208975, 283.162079913944, 412.7218891710817, 95.59929006741169, 183.2148504840898, 54.31989963786836, 2740.825048721248, 165.3165858284757, 97.7652093587748, 653.0994574770004, 105.23240333504933, 88.35667613361768, 82.92313786582753, 81.87939585167828, 80.0523592552565, 72.47497955370281, 58.86684534111336, 50.72175930505431, 48.83765469382373, 47.39951869959028, 46.343283395488626, 45.11496791425406, 41.16901456630724, 36.410762445808686, 36.270834242764835, 33.417051539875196, 33.052579010513575, 32.19972807944176, 32.09528354968598, 30.710396587206507, 28.853915171765784, 27.5523564236556, 27.287285846980915, 26.80300119547226, 26.53260829195038, 26.532606653340203, 26.43448255758816, 26.26209411957706, 26.239631782751207, 25.726479319796855, 81.99308387476567, 43.3805799883679, 166.20537976908474, 2740.825048721248, 2599.4590206021544, 369.9225531545573, 105.62593899839979], \"loglift\": [30.0, 29.0, 28.0, 27.0, 26.0, 25.0, 24.0, 23.0, 22.0, 21.0, 20.0, 19.0, 18.0, 17.0, 16.0, 15.0, 14.0, 13.0, 12.0, 11.0, 10.0, 9.0, 8.0, 7.0, 6.0, 5.0, 4.0, 3.0, 2.0, 1.0, 2.0071, 2.0047, 2.0042, 2.0042, 2.004, 2.004, 2.0039, 2.0032, 2.0012, 2.0004, 1.9974, 1.9974, 1.9973, 1.9909, 1.9905, 1.9897, 1.9897, 1.9872, 1.9861, 1.9838, 1.9834, 1.9831, 1.9774, 1.9764, 1.973, 1.9726, 1.9716, 1.9675, 1.9666, 1.9663, 1.9054, 1.7912, 1.8093, 1.8481, 1.8297, 1.9497, 1.6125, 1.9032, 1.8042, 1.7248, 0.2342, 1.3954, -0.0304, 0.8675, -0.5722, 2.0345, 2.0342, 2.034, 2.0293, 2.0222, 2.0218, 2.0202, 2.0195, 2.0178, 2.0167, 2.0166, 2.0165, 2.0165, 2.0162, 2.0153, 2.0153, 2.0147, 2.0139, 2.0123, 2.0123, 2.0123, 2.0118, 2.0099, 2.0094, 2.0092, 2.0079, 2.0054, 2.0048, 2.0033, 2.0021, 1.9394, 1.9794, 1.6322, 1.4314, 1.5974, 0.6515, 1.7727, 1.7101, 1.518, 1.5778, 1.558, -0.1079, 1.4265, 1.7106, 1.4073, 0.2422, -0.1099, 0.7535, -0.1009, -0.0299, 2.0441, 2.0424, 2.0404, 2.0403, 2.0372, 2.0365, 2.0362, 2.0355, 2.0354, 2.0343, 2.0337, 2.0335, 2.033, 2.0327, 2.0318, 2.0309, 2.0303, 2.0291, 2.0282, 2.0281, 2.028, 2.0264, 2.0207, 2.0206, 2.0206, 2.0206, 2.0205, 2.0194, 2.0185, 2.0176, 1.9209, 1.9793, 2.0063, 1.6, 1.8059, 1.768, 1.725, 1.6573, 1.4172, 0.1, 1.5003, -0.2307, 0.5073, 1.1504, 1.2538, -0.0253, 1.4976, 0.9325, 0.4908, 0.1221, 2.1455, 2.1449, 2.1438, 2.1423, 2.1414, 2.1409, 2.1408, 2.1407, 2.1387, 2.1377, 2.1373, 2.1366, 2.1365, 2.1362, 2.1361, 2.1359, 2.1349, 2.1348, 2.1348, 2.1344, 2.1343, 2.134, 2.1339, 2.1337, 2.1336, 2.1328, 2.1326, 2.1326, 2.1326, 2.1325, 2.0574, 2.0122, 2.0452, 1.9976, 1.9181, 1.8621, 1.0431, -0.0464, 1.8591, 1.0346, -0.8028, 1.0284, 1.648, 0.975, 2.1686, 2.1659, 2.1624, 2.1624, 2.162, 2.1603, 2.1578, 2.157, 2.1566, 2.1556, 2.1553, 2.1522, 2.1521, 2.1521, 2.1505, 2.1495, 2.1489, 2.1488, 2.1467, 2.1457, 2.1451, 2.1449, 2.1447, 2.1436, 2.1432, 2.1418, 2.1414, 2.1413, 2.1397, 2.1385, 1.9925, 1.8605, 1.8089, 0.3175, 1.7525, 0.8464, 0.3729, 1.3375, 0.8172, -0.3053, 1.8341, 1.1082, -0.16, 1.3628, -0.3005, 1.0905, 2.4369, 2.4354, 2.4341, 2.4275, 2.4271, 2.4255, 2.4249, 2.4245, 2.4188, 2.4172, 2.417, 2.4164, 2.4155, 2.4152, 2.4144, 2.4142, 2.4121, 2.4117, 2.4112, 2.4108, 2.4097, 2.4078, 2.4056, 2.4038, 2.4032, 2.4, 2.3992, 2.3971, 2.3969, 2.3967, 2.3742, 2.2847, 2.1804, 2.0225, 2.3253, 2.2486, 1.9148, 1.2676, -0.0007, -0.0114, 1.663, 1.0132, 2.0916, -0.2293, 2.5835, 2.5826, 2.582, 2.5776, 2.5775, 2.5775, 2.5765, 2.5759, 2.5758, 2.5747, 2.5735, 2.5712, 2.5712, 2.5711, 2.5697, 2.5688, 2.5687, 2.5649, 2.5641, 2.5622, 2.5619, 2.5619, 2.5609, 2.5597, 2.5592, 2.5582, 2.5522, 2.55, 2.5481, 2.5477, 1.9951, 2.0447, 2.3232, 1.9857, 2.0268, 0.041, 0.0493, 1.6781, 1.5741, -0.0026, 1.7708, 2.6118, 2.6083, 2.6037, 2.6032, 2.6, 2.5992, 2.5983, 2.5964, 2.5947, 2.5928, 2.5922, 2.5907, 2.5895, 2.5895, 2.5848, 2.5838, 2.5834, 2.5829, 2.5824, 2.582, 2.5819, 2.5805, 2.5803, 2.5795, 2.5793, 2.5788, 2.5767, 2.5766, 2.5746, 2.5745, 2.3853, 2.3055, 1.9517, 2.1585, 1.8475, -0.1154, -0.1012, 2.2756, 1.5589, -0.4974, 0.884, 2.6172, 2.615, 2.6101, 2.6087, 2.6082, 2.6061, 2.604, 2.6034, 2.6033, 2.6028, 2.6011, 2.6008, 2.5995, 2.5981, 2.597, 2.5956, 2.5949, 2.5937, 2.5929, 2.5925, 2.5883, 2.5882, 2.5878, 2.5877, 2.587, 2.5869, 2.5869, 2.5869, 2.5856, 2.5856, 2.5425, 2.5362, 2.1856, 2.0948, 1.7617, 2.165, 1.936, 2.2526, 0.0248, 1.2816, 1.6238, -0.2803, 2.6458, 2.6443, 2.6436, 2.6435, 2.6433, 2.6421, 2.6392, 2.637, 2.6363, 2.6358, 2.6354, 2.6349, 2.633, 2.6303, 2.6302, 2.6281, 2.6278, 2.6271, 2.627, 2.6258, 2.624, 2.6225, 2.6222, 2.6216, 2.6213, 2.6213, 2.6212, 2.621, 2.6209, 2.6203, 2.5883, 2.6018, 1.7068, 0.0381, 0.041, 0.6849, 1.3425], \"logprob\": [30.0, 29.0, 28.0, 27.0, 26.0, 25.0, 24.0, 23.0, 22.0, 21.0, 20.0, 19.0, 18.0, 17.0, 16.0, 15.0, 14.0, 13.0, 12.0, 11.0, 10.0, 9.0, 8.0, 7.0, 6.0, 5.0, 4.0, 3.0, 2.0, 1.0, -3.736, -4.1152, -4.1716, -4.1721, -4.2036, -4.2036, -4.2147, -4.288, -4.4926, -4.5558, -4.7856, -4.7856, -4.7871, -5.1439, -5.1645, -5.1987, -5.1931, -5.3054, -5.3503, -5.4341, -5.4501, -5.4607, -5.6381, -5.6676, -5.7609, -5.7695, -5.795, -5.8942, -5.9141, -5.9201, -2.1073, -2.1139, -2.8825, -3.6912, -4.0071, -5.5743, -3.9375, -5.41, -5.2016, -5.0397, -2.6896, -4.635, -3.0071, -5.0624, -4.9303, -3.667, -3.7195, -3.7516, -4.3786, -4.9065, -4.9288, -5.0147, -5.0517, -5.1334, -5.1831, -5.1885, -5.1917, -5.1926, -5.2059, -5.2451, -5.2451, -5.2695, -5.3009, -5.3609, -5.3586, -5.3621, -5.38, -5.43, -5.4664, -5.4731, -5.5134, -5.5924, -5.6084, -5.6533, -5.6864, -3.7354, -5.1182, -2.6045, -3.4951, -4.2253, -2.3252, -4.9649, -4.8453, -4.6169, -4.7583, -4.8227, -3.0317, -4.7125, -5.0897, -4.9927, -4.5748, -4.468, -4.844, -5.1868, -5.188, -3.5815, -3.8816, -4.1617, -4.1786, -4.4858, -4.5487, -4.5776, -4.6254, -4.6353, -4.715, -4.7537, -4.7691, -4.8019, -4.8089, -4.8763, -4.9275, -4.9589, -5.0262, -5.0702, -5.0737, -5.0746, -5.1524, -5.3335, -5.3908, -5.3907, -5.3907, -5.3913, -5.4304, -5.4618, -5.4923, -3.1651, -4.7515, -5.287, -3.5716, -4.6206, -4.4936, -4.4549, -4.2726, -4.369, -2.8238, -4.6201, -3.2075, -3.8508, -4.4787, -4.6409, -4.262, -4.7513, -4.7064, -4.6775, -4.6949, -3.466, -3.5983, -3.7898, -3.9992, -4.1018, -4.1645, -4.166, -4.1793, -4.3712, -4.4556, -4.4868, -4.5427, -4.5404, -4.575, -4.5846, -4.5992, -4.6632, -4.6683, -4.6715, -4.6983, -4.7036, -4.7248, -4.727, -4.7405, -4.7451, -4.7946, -4.809, -4.809, -4.809, -4.8129, -2.9463, -3.1459, -4.3286, -4.3103, -4.2912, -4.3325, -3.315, -2.9702, -4.5212, -4.1592, -3.7796, -4.5216, -4.6093, -4.6226, -3.7889, -4.1395, -4.4617, -4.4641, -4.49, -4.6165, -4.7659, -4.815, -4.8393, -4.8894, -4.9094, -5.0535, -5.0567, -5.0588, -5.1247, -5.1648, -5.1887, -5.1943, -5.2708, -5.3076, -5.3252, -5.3337, -5.3392, -5.3756, -5.3897, -5.4331, -5.4448, -5.4462, -5.4939, -5.5274, -4.7734, -4.563, -4.597, -2.6593, -4.8851, -3.9706, -3.5323, -4.5849, -4.1093, -3.2291, -5.0569, -4.6184, -4.1727, -4.8983, -4.5372, -4.9322, -3.6648, -3.8418, -3.9834, -4.4778, -4.5039, -4.5882, -4.6213, -4.6402, -4.8962, -4.9456, -4.9646, -4.9709, -5.0191, -5.0251, -5.0555, -5.0627, -5.1284, -5.1416, -5.158, -5.1716, -5.203, -5.2412, -5.3185, -5.3637, -5.3707, -5.4359, -5.4737, -5.5208, -5.5255, -5.5281, -3.2345, -3.374, -4.4747, -4.0003, -5.182, -4.9265, -3.9783, -3.9041, -2.9245, -2.9881, -4.598, -4.1551, -5.0573, -4.4661, -4.0592, -4.1198, -4.1652, -4.4329, -4.4392, -4.4343, -4.4915, -4.5216, -4.525, -4.5811, -4.6342, -4.7295, -4.7306, -4.734, -4.7899, -4.8218, -4.8259, -4.9574, -4.9818, -5.0405, -5.0493, -5.0493, -5.0766, -5.1043, -5.1244, -5.152, -5.2992, -5.3488, -5.3901, -5.4005, -3.1732, -3.5942, -4.6828, -3.909, -4.269, -2.8828, -2.9275, -4.3524, -4.7055, -4.3606, -4.8726, -3.038, -3.5996, -4.0431, -4.0784, -4.2954, -4.345, -4.3905, -4.4943, -4.5718, -4.6588, -4.6816, -4.7396, -4.7781, -4.789, -4.9508, -4.9827, -4.9477, -5.0104, -5.0251, -5.0381, -5.0394, -5.0812, -5.0845, -5.107, -5.1139, -5.1265, -5.1822, -5.1837, -5.2327, -5.2372, -4.5554, -4.3683, -3.7802, -4.4027, -3.9388, -3.0392, -3.078, -4.8848, -4.8411, -4.8554, -5.0091, -3.2815, -3.5277, -4.0572, -4.1557, -4.1909, -4.3211, -4.4367, -4.457, -4.475, -4.4964, -4.5765, -4.5906, -4.6487, -4.7076, -4.7475, -4.8014, -4.8164, -4.868, -4.8957, -4.9088, -5.0381, -5.0417, -5.0524, -5.0567, -5.076, -5.077, -5.077, -5.077, -5.1124, -5.1135, -3.5866, -4.129, -3.3512, -3.099, -3.0554, -4.1147, -3.6931, -4.5923, -2.899, -4.4504, -4.6334, -4.6384, -3.5379, -3.7142, -3.7783, -3.7911, -3.8139, -3.9144, -4.1254, -4.2765, -4.315, -4.3454, -4.3683, -4.3957, -4.4891, -4.6147, -4.6186, -4.7026, -4.7139, -4.7407, -4.7441, -4.7894, -4.8536, -4.9012, -4.9112, -4.9297, -4.9401, -4.9401, -4.944, -4.9507, -4.9516, -4.972, -3.8449, -4.468, -4.0198, -2.8857, -2.9358, -4.2417, -4.8374]}, \"token.table\": {\"Topic\": [5, 10, 7, 10, 10, 1, 9, 4, 2, 8, 9, 3, 8, 2, 7, 1, 6, 6, 6, 3, 8, 6, 3, 6, 8, 2, 10, 6, 7, 3, 10, 6, 2, 6, 9, 2, 3, 1, 3, 5, 6, 1, 2, 3, 4, 5, 6, 7, 8, 9, 10, 1, 4, 7, 4, 5, 10, 8, 5, 6, 3, 2, 5, 7, 1, 4, 4, 5, 8, 10, 2, 9, 3, 6, 2, 5, 1, 6, 8, 2, 4, 1, 5, 5, 3, 3, 9, 9, 3, 2, 2, 6, 3, 8, 6, 7, 4, 5, 4, 6, 7, 2, 8, 9, 10, 6, 5, 1, 10, 7, 9, 7, 2, 9, 4, 4, 8, 9, 5, 3, 5, 2, 9, 7, 2, 4, 3, 4, 4, 2, 8, 3, 1, 5, 7, 3, 10, 3, 8, 10, 4, 1, 2, 8, 4, 7, 9, 2, 9, 2, 5, 2, 6, 9, 4, 1, 1, 4, 10, 9, 1, 7, 7, 8, 2, 7, 4, 7, 2, 5, 6, 4, 6, 7, 8, 9, 8, 8, 6, 3, 5, 4, 10, 2, 5, 7, 1, 5, 3, 6, 8, 4, 5, 2, 10, 5, 4, 6, 3, 8, 2, 3, 5, 9, 8, 3, 7, 7, 3, 5, 9, 1, 2, 3, 4, 3, 4, 1, 3, 5, 3, 5, 3, 10, 9, 1, 3, 2, 10, 1, 7, 7, 10, 2, 2, 4, 8, 8, 6, 9, 3, 4, 9, 10, 6, 6, 1, 5, 1, 2, 7, 5, 6, 1, 7, 1, 4, 7, 9, 2, 3, 5, 4, 6, 8, 3, 6, 5, 9, 9, 2, 10, 1, 6, 3, 7, 9, 4, 9, 10, 9, 4, 6, 3, 9, 10, 2, 6, 9, 4, 8, 2, 8, 3, 6, 7, 4, 8, 2, 3, 5, 10, 4, 9, 5, 5, 10, 8, 10, 2, 5, 6, 5, 7, 8, 3, 4, 7, 6, 1, 2, 3, 5, 9, 7, 5, 5, 7, 2, 2, 8, 2, 3, 5, 3, 9, 6, 10, 8, 3, 4, 9, 3, 10, 1, 3, 5, 5, 1, 3, 1, 5, 1, 5, 10, 1, 2, 6, 2, 7, 9, 1, 4, 3, 1, 1, 2, 3, 7, 1, 1, 6, 7, 3, 4, 10, 3, 3, 9, 3, 7, 1, 2, 3, 4, 5, 6, 7, 8, 9, 10, 1, 6, 1, 6, 1, 2, 3, 4, 5, 7, 8, 9, 10, 1, 4, 10, 10, 8, 1, 10, 8, 4, 4, 3, 8, 5, 8, 9, 5, 10, 1, 6, 8, 10, 4, 3, 1, 5, 4, 5, 1, 6, 5, 2, 1, 7, 3, 1, 3, 7, 3, 8, 4, 8, 3, 7, 6, 5, 1, 2, 3, 6, 3, 8, 9, 3, 2, 4, 5, 6, 3, 4, 2, 6, 10, 7, 9, 9, 2, 2, 3, 4, 5, 6, 2, 4, 4, 10, 1, 3, 4, 5, 2, 10, 9, 3, 3, 7, 1, 4, 7, 6, 9, 7, 5, 8, 2, 3, 8, 2, 4, 5, 3, 8, 4, 1, 2, 7, 2, 1, 4, 2, 3, 9, 4, 6, 2, 3, 2, 2, 6, 6, 9, 6, 8, 9, 5, 5], \"Freq\": [0.9928953367218001, 0.9959632237288069, 0.9883807158953212, 0.9888675478330162, 0.9828481793592422, 0.9789783332680398, 0.9730647756553911, 0.9733521587857649, 0.9686829753366754, 0.9591537909572435, 0.9595165779285694, 0.9907332253148865, 0.9874991165977659, 0.9749851533703972, 0.9625257078309517, 0.9931063294862514, 0.9733013334933748, 0.9816408452691191, 0.9496501666159506, 0.9842052086192193, 0.9973342333443788, 0.9913679517332772, 0.6390338818570711, 0.30742711073123963, 0.051813557988411175, 0.9804239853690403, 0.9649626409401285, 0.9845334761911245, 0.9339278884012591, 0.9725696981906293, 0.9681544060395783, 0.9627883640108539, 0.14053327824952194, 0.8544423317570934, 0.9709316775819994, 0.11730464041251006, 0.8813700009372377, 0.8986336284105585, 0.004335988556866386, 0.09647574539027708, 0.9726510286380446, 0.12964235917130762, 0.24966733264741436, 0.10232898379693717, 0.052318578181892686, 0.15618634369006199, 0.08578708040119168, 0.07847786727283902, 0.06616761358298193, 0.0069245177005446195, 0.07347682671133458, 0.6706985403363301, 0.32778500091625157, 0.9748990256666406, 0.2647327063728672, 0.34294918780121436, 0.38506575472417054, 0.9549816004210967, 0.9913821599705562, 0.9720302355534594, 0.9801694522134613, 0.9713732455831635, 0.954966779572933, 0.9568872558591687, 0.9629654113146758, 0.9902222115664537, 0.9896761991863512, 0.9770695996095415, 0.9758717902146513, 0.9627410493504217, 0.9765159904148543, 0.963011104157278, 0.7602046793315199, 0.23627983276520215, 0.9752412229843029, 0.9694651751456537, 0.9616807382993319, 0.9755786868393003, 0.9730202852045784, 0.7218779065156681, 0.2641016731154883, 0.8329437379180606, 0.16121491701639884, 0.9658878771155198, 0.9731060159033817, 0.2945513542305189, 0.681150006658075, 0.9515918492858653, 0.9782707305114321, 0.9808838965005123, 0.9480846172034767, 0.047404230860173834, 0.5300793604703906, 0.46621437728118686, 0.9862217977281997, 0.9647673939977413, 0.9733521406353014, 0.9722702375561348, 0.9828557126670062, 0.9688831011778752, 0.9855670868617792, 0.3604209569577061, 0.6376678469251723, 0.023051789539654397, 0.9451233711258303, 0.9757107192422777, 0.971429903540699, 0.9404230833845393, 0.9852744726494126, 0.9898284548927252, 0.9604535710754721, 0.9790294269045401, 0.9679391820934851, 0.9653045157253939, 0.9871394243120876, 0.9917696977884347, 0.947151697243522, 0.9550515677558625, 0.9714129818916072, 0.26987087502430457, 0.7132301697070906, 0.9762425421255432, 0.9827946193399244, 0.9506476462337076, 0.24294713425152936, 0.7519792250642576, 0.5781469881914428, 0.4158601143131431, 0.987684629208949, 0.979494470094316, 0.9931410614268373, 0.9730229643084833, 0.5380818353402919, 0.057069285566394595, 0.39948499896476214, 0.9805104602194985, 0.9519423655314587, 0.9882348787215008, 0.9815741041973893, 0.9887186529966233, 0.980397393621194, 0.9946886206310259, 0.9718688915634054, 0.9574714722371045, 0.9887134056038488, 0.9621765382981533, 0.985125399733516, 0.9776455405133098, 0.9756804784736323, 0.9771503931773873, 0.980246167235433, 0.9795165952432375, 0.9831038001801187, 0.9934691680330976, 0.979588030555294, 0.9970534898442704, 0.9717657972746673, 0.9893083062820501, 0.9875197984065845, 0.9643479386702238, 0.979375535520816, 0.9775784287643554, 0.9431958592702214, 0.9676783550551946, 0.9663609830137974, 0.9924755105786922, 0.42523445109316277, 0.5634356476984407, 0.6133763017455941, 0.1735970665317719, 0.1967433420693415, 0.9918421391111272, 0.21627918523194808, 0.7569771483118183, 0.9603395048938406, 0.9582343730744721, 0.9642253602642306, 0.9823881822841363, 0.9760299734753685, 0.15309769902432102, 0.8335319169101922, 0.9874240881742355, 0.9716045045376441, 0.6308516184363641, 0.07747300577288682, 0.2766893063317386, 0.9877611113308107, 0.9759543047754135, 0.9766148162668508, 0.9697998854645429, 0.9894418128024254, 0.8607471807191216, 0.12911207710786823, 0.9690886654451077, 0.975286075424609, 0.9633721203952182, 0.9971408778368337, 0.959551132524735, 0.9942350981987035, 0.9726665190808688, 0.16831076754723628, 0.39516441076307646, 0.4317537080559539, 0.98923085338679, 0.9680690850141009, 0.990742301917662, 0.9569808648315343, 0.960424510567832, 0.9759014666315016, 0.9522911750008111, 0.979441420192492, 0.12692060057168308, 0.27499463457198003, 0.28557135128628697, 0.30672478471490083, 0.9934466391286365, 0.988865512937985, 0.8011523902794272, 0.03309742560085118, 0.16451367431011324, 0.9968334592438906, 0.9848618193908628, 0.7195202307375594, 0.26508640079804824, 0.978664010738352, 0.9548270606920123, 0.9769493646098457, 0.9843225859868145, 0.9528247017970334, 0.9863183218247223, 0.9795079692569642, 0.9507041728332354, 0.9704055700350377, 0.9762425354431783, 0.12607647988035062, 0.8723129418748584, 0.9851009478097875, 0.9848859270752233, 0.9462246920957986, 0.9851314164532514, 0.27371409650916484, 0.07962591898448432, 0.646960591748935, 0.9882887466598527, 0.9682959008636762, 0.9421957892384504, 0.7474544941643843, 0.23782642996139497, 0.971611969842132, 0.7606230644204875, 0.21495869211883345, 0.3398133308447501, 0.6553542809148752, 0.9482795356313214, 0.9836758469661925, 0.9824566236230868, 0.6034866634764131, 0.02045717503309875, 0.3682291505957775, 0.29437596918846837, 0.5798314544621347, 0.11596629089242694, 0.227396232524903, 0.5898089781114672, 0.17765330666008047, 0.07140558836255301, 0.8925698545319125, 0.9765178528825107, 0.9764058272818992, 0.9604536124579744, 0.04878460244414647, 0.9391035970498195, 0.9863233721280359, 0.9629719658088296, 0.9736070119518033, 0.3556511766564893, 0.6276197235114518, 0.9910924524379191, 0.9686344894410577, 0.9892598639434116, 0.9505192841834126, 0.9823802259127112, 0.9778245137635591, 0.4093554632816892, 0.5021427016255388, 0.0873291655000937, 0.06299342471864042, 0.008999060674091489, 0.9179041887573318, 0.7896973105233576, 0.19498699025268088, 0.9533869866619633, 0.9778929466043401, 0.20999637968627732, 0.23753688849759239, 0.5473676126248868, 0.9890842544075541, 0.9903180135609397, 0.5433569764426345, 0.05676863932982749, 0.25681051125398147, 0.14056996405481093, 0.9974949818240683, 0.9811244253185898, 0.9821306918726656, 0.9671571516414771, 0.9658740030138573, 0.9506458594005776, 0.9527572721669788, 0.967924825555834, 0.15367196888218598, 0.8195838340383252, 0.9866446609637483, 0.9796888796714507, 0.9458685066295224, 0.3251785230230787, 0.09369550663376844, 0.573196040583054, 0.9788280900120918, 0.9900396295141072, 0.16475985835539875, 0.14537634560770477, 0.2641003611873303, 0.4215914022623438, 0.9873584240889669, 0.9755239552387729, 0.6883422530301038, 0.2966992469957344, 0.9695663992569296, 0.27761814414805724, 0.7066643669223275, 0.20948957234614846, 0.1346718679368097, 0.6583957988021809, 0.9768194551434611, 0.994262631782807, 0.9579038874222554, 0.9710144966634067, 0.9582378516640079, 0.08122556525573603, 0.32843380733841093, 0.5897682346829529, 0.9939050903061147, 0.9799262746394984, 0.9807353380264126, 0.9873463611640071, 0.9890725717072004, 0.9809565109995374, 0.8481031248549927, 0.14966525732735167, 0.9939082999662069, 0.9824318475611673, 0.2657345004479256, 0.72473045576707, 0.991571249866009, 0.045680193919315236, 0.16749404437082255, 0.7613365653219206, 0.5568084226780728, 0.4364174123693004, 0.9819260183335832, 0.24016580319617842, 0.7493173059720767, 0.9898273664365251, 0.9795602435383182, 0.9904783422134747, 0.9711718124156548, 0.9361177638588202, 0.049269355992569486, 0.9863233692643417, 0.8216277139063979, 0.17297425555924167, 0.9894683179305799, 0.9730231686038139, 0.9838402576503534, 0.9768678797361267, 0.9873813504684514, 0.07690696223629276, 0.9228835468355131, 0.4484392721386016, 0.5409743600402178, 0.16892723605835988, 0.11675316531031353, 0.14229292022194462, 0.11128036068639258, 0.08355148392519311, 0.08683516669954569, 0.07771382565967744, 0.0649439482038619, 0.07443014288532487, 0.07297072831894595, 0.9335776427849378, 0.9719684540237817, 0.9438953295923559, 0.03630366652278292, 0.0750268576080169, 0.11636818731039356, 0.21436245030861972, 0.3307306376190133, 0.052059452217807646, 0.0750268576080169, 0.04440365042107123, 0.05512177293650221, 0.036747848624334806, 0.9668407959349062, 0.9857203163479114, 0.9868541131698451, 0.9700406238235774, 0.9612666986124401, 0.938977332916012, 0.9835637956354307, 0.9625141015314003, 0.9820486424238968, 0.9770576099130963, 0.24821436165106803, 0.7291296873500123, 0.9874385445887736, 0.987134537200902, 0.9864779832155669, 0.9894960136438334, 0.9857702233727056, 0.8820883468793748, 0.08820883468793747, 0.9638962907432084, 0.9799263351581344, 0.9915714242633685, 0.9730688236514045, 0.9847615532360856, 0.9623825145657493, 0.8964348928926872, 0.09194204029668586, 0.9927414123483375, 0.9521085738886245, 0.97908578876344, 0.9952490960109266, 0.9896614858235884, 0.9788540524021256, 0.977561778102793, 0.3170425257921668, 0.6783235435553336, 0.9818888465004183, 0.9512070727104645, 0.028824456748801953, 0.1823372335582569, 0.7901280120857799, 0.9952320242322364, 0.984852219189126, 0.9807711297779615, 0.9800912120194608, 0.14481074798703927, 0.597344335446537, 0.26246948072650866, 0.9777735629789438, 0.2177639939730658, 0.5141649857697388, 0.26010699280116195, 0.9870740091687702, 0.0821418147116996, 0.01026772683896245, 0.44151225407538536, 0.4620477077533102, 0.7874463083528713, 0.20594749603075097, 0.965661241366774, 0.9622115893357989, 0.9799524797384893, 0.9784769458488852, 0.959226852289242, 0.9847667381706733, 0.9821122080138632, 0.6658772583777816, 0.12612339109803195, 0.05560278532278827, 0.0840822607320213, 0.0691644402795659, 0.9869613653501027, 0.9914194776272223, 0.993002283857663, 0.9717614170689178, 0.8166714235480992, 0.03634401623119813, 0.12399723184761716, 0.02351671638489291, 0.9974600571014586, 0.9934462961338146, 0.9604535776871177, 0.9898097890105902, 0.9803095993757706, 0.9850545182053025, 0.9840712229970955, 0.9733521537931191, 0.9507041974961682, 0.9906198464293252, 0.9733998076193491, 0.9760557802155918, 0.962339306769223, 0.9885749353322688, 0.5309141336376098, 0.1179809185861355, 0.342144663899793, 0.545268524324327, 0.31807330585585747, 0.13631713108108176, 0.9665264495063478, 0.9656616470643143, 0.9876607507232577, 0.992741416552118, 0.9860767140400136, 0.9717062549678067, 0.9526461300771096, 0.08760059965582372, 0.9110462364205667, 0.6424337837916639, 0.19869086096649402, 0.1523296600743121, 0.9884283972679859, 0.9893408123390478, 0.9026215163626562, 0.09140471051773734, 0.995713574612861, 0.7166577534385159, 0.27563759747635225, 0.9304332505517934, 0.0641678103828823, 0.6985936459330186, 0.2245479576213274, 0.07484931920710913, 0.9642037180005867, 0.9861312770735877], \"Term\": [\"000\", \"10\", \"100\", \"15\", \"170\", \"18\", \"200\", \"2013\", \"2019\", \"21st\", \"48\", \"ability\", \"able\", \"actually\", \"add\", \"adult\", \"ago\", \"alaska\", \"alberta\", \"american\", \"amp\", \"andrew\", \"andrewyang\", \"andrewyang\", \"andrewyang\", \"answer\", \"argument\", \"ask\", \"asset\", \"attention\", \"auf\", \"aut\", \"automation\", \"automation\", \"away\", \"baseincomequote\", \"baseincomequote\", \"basic\", \"basic\", \"basic\", \"basicin\", \"basicincome\", \"basicincome\", \"basicincome\", \"basicincome\", \"basicincome\", \"basicincome\", \"basicincome\", \"basicincome\", \"basicincome\", \"basicincome\", \"basicincomecdn\", \"basicincomecdn\", \"basicincomeimg\", \"basicincomeorg\", \"basicincomeorg\", \"basicincomeorg\", \"basicincwales\", \"benefit\", \"bernie\", \"berniesanders\", \"bge\", \"biggest\", \"billion\", \"blockchain\", \"blog\", \"brain\", \"break\", \"bring\", \"build\", \"california\", \"canadian\", \"candidate\", \"candidate\", \"capitalism\", \"case\", \"cbinscot\", \"cdnpoli\", \"century\", \"change\", \"change\", \"citizen\", \"citizen\", \"city\", \"class\", \"classfirster\", \"classfirster\", \"climb\", \"close\", \"cnn\", \"cnntownhall\", \"cnntownhall\", \"come\", \"come\", \"compare\", \"compassoffice\", \"compile\", \"conditional\", \"consider\", \"continue\", \"corporation\", \"cost\", \"cost\", \"country\", \"country\", \"course\", \"daily\", \"data\", \"datum\", \"day\", \"dblc\", \"decouple\", \"depend\", \"der\", \"determine\", \"development\", \"difference\", \"different\", \"disability\", \"dividend\", \"dividend\", \"dorsey\", \"drive\", \"drop\", \"economics\", \"economics\", \"economy\", \"economy\", \"effect\", \"effective\", \"eliminate\", \"email\", \"employment\", \"employment\", \"employment\", \"end\", \"english\", \"enhance\", \"event\", \"excellent\", \"exist\", \"experiment\", \"explain\", \"explore\", \"exponentially\", \"extra\", \"fact\", \"faganwrites\", \"fail\", \"family\", \"far\", \"fascinate\", \"feel\", \"financial\", \"finding\", \"finland\", \"finnish\", \"fit\", \"fix\", \"floor\", \"forbes\", \"ford\", \"foreign\", \"foundation\", \"founder\", \"free\", \"freedom\", \"freedom\", \"freedomdividend\", \"freedomdividend\", \"freedomdividend\", \"friend\", \"fund\", \"fund\", \"fyeg\", \"f\\u00fcr\", \"gef\", \"gef_europe\", \"general\", \"good\", \"good\", \"government\", \"graphic\", \"great\", \"great\", \"great\", \"greenpartyus\", \"grow\", \"growi\", \"grundeinkommen\", \"gt\", \"guarantee\", \"guarantee\", \"guy\", \"gyeonggi\", \"happen\", \"happy\", \"harvesting\", \"health\", \"hear\", \"help\", \"help\", \"help\", \"hide\", \"highlight\", \"hope\", \"htt\", \"huge\", \"human\", \"humanity\", \"humanvsmachine\", \"idea\", \"idea\", \"idea\", \"idea\", \"imagine\", \"impact\", \"income\", \"income\", \"income\", \"increase\", \"india\", \"inequality\", \"inequality\", \"insolvency\", \"institutional\", \"insurance\", \"intelligence\", \"intention\", \"interview\", \"invest\", \"involvement\", \"ireland\", \"jack\", \"job\", \"job\", \"join\", \"june\", \"key\", \"kid\", \"know\", \"know\", \"know\", \"korea\", \"laresistance\", \"larrycohen\", \"late\", \"late\", \"lend\", \"life\", \"life\", \"like\", \"like\", \"lindsayontario\", \"link\", \"listen\", \"little\", \"little\", \"little\", \"live\", \"live\", \"live\", \"look\", \"look\", \"look\", \"lot\", \"lot\", \"low\", \"m1\", \"m1voucher\", \"machine\", \"machine\", \"marital\", \"mathieu_samsav\", \"mdelbranson\", \"mean\", \"mean\", \"medium\", \"menschen\", \"million\", \"miss\", \"modern\", \"monetary\", \"money\", \"money\", \"money\", \"month\", \"month\", \"month\", \"movement\", \"movement\", \"myths\", \"natalieben\", \"need\", \"need\", \"need\", \"negative\", \"net\", \"new\", \"new\", \"new\", \"new\", \"news\", \"numb\", \"odsp\", \"odspaction\", \"oecd\", \"oil\", \"old\", \"online\", \"ontario\", \"ontario\", \"paper\", \"participation\", \"party\", \"pay\", \"pay\", \"pay\", \"payment\", \"pe\", \"people\", \"people\", \"people\", \"people\", \"percent\", \"pharmacist\", \"pilot\", \"pilot\", \"plan\", \"podcast\", \"podcast\", \"policy\", \"policy\", \"policy\", \"poll\", \"poor\", \"possibility\", \"post\", \"potential\", \"poverty\", \"poverty\", \"poverty\", \"power\", \"pre\", \"preliminary\", \"presidential\", \"problem\", \"problems\", \"program\", \"program\", \"progresscdn\", \"propose\", \"provide\", \"provide\", \"province\", \"question\", \"question\", \"question\", \"rbasicincome\", \"rbasicincome\", \"reach\", \"read\", \"read\", \"real\", \"receive\", \"recipient\", \"redistri\", \"refuse\", \"refuse\", \"regardless\", \"relate\", \"relate\", \"report\", \"request\", \"research\", \"response\", \"result\", \"rich\", \"rich\", \"right\", \"right\", \"rt\", \"rt\", \"rt\", \"rt\", \"rt\", \"rt\", \"rt\", \"rt\", \"rt\", \"rt\", \"russia\", \"sanders\", \"scott\", \"scott\", \"scottsantens\", \"scottsantens\", \"scottsantens\", \"scottsantens\", \"scottsantens\", \"scottsantens\", \"scottsantens\", \"scottsantens\", \"scottsantens\", \"senior\", \"sense\", \"set\", \"sheffield\", \"shift\", \"short\", \"simonjduffy\", \"sk\", \"slave\", \"smedian_network\", \"social\", \"social\", \"society\", \"solidly\", \"solution\", \"solve\", \"south\", \"stand\", \"stand\", \"standing\", \"standouts\", \"start\", \"state\", \"status\", \"step\", \"story\", \"story\", \"strain\", \"strawberry\", \"strike\", \"subreddit\", \"success\", \"suffer\", \"sup\", \"support\", \"support\", \"sure\", \"survey\", \"survey\", \"talk\", \"talk\", \"tax\", \"team\", \"tell\", \"thanks\", \"thebasicincome\", \"thebasicincome\", \"thebasicincome\", \"thing\", \"think\", \"think\", \"think\", \"threat\", \"time\", \"time\", \"time\", \"time\", \"today\", \"today\", \"tonight\", \"train\", \"trial\", \"trillion\", \"trust\", \"try\", \"twitter\", \"ubi\", \"ubi\", \"ubi\", \"ubi\", \"ubi\", \"ubicardiff\", \"unable\", \"unconditional\", \"united\", \"universal\", \"universal\", \"universal\", \"universal\", \"universalbasicincome\", \"unreas\", \"unswissindo\", \"usa\", \"usatoday\", \"use\", \"value\", \"var\", \"voice\", \"vote\", \"voucher\", \"w_stronge\", \"wage\", \"wales\", \"want\", \"want\", \"want\", \"way\", \"way\", \"way\", \"wealth\", \"wee\", \"week\", \"widely\", \"woman\", \"women4ubi\", \"word\", \"work\", \"work\", \"world\", \"world\", \"world\", \"wrong\", \"yang\", \"yang2020\", \"yang2020\", \"yanggang\", \"yangtownhall\", \"yangtownhall\", \"year\", \"year\", \"yes\", \"yes\", \"yes\", \"young\", \"youth\"]}, \"R\": 30, \"lambda.step\": 0.01, \"plot.opts\": {\"xlab\": \"PC1\", \"ylab\": \"PC2\"}, \"topic.order\": [7, 1, 6, 8, 5, 4, 3, 10, 9, 2]};\n",
       "\n",
       "function LDAvis_load_lib(url, callback){\n",
       "  var s = document.createElement('script');\n",
       "  s.src = url;\n",
       "  s.async = true;\n",
       "  s.onreadystatechange = s.onload = callback;\n",
       "  s.onerror = function(){console.warn(\"failed to load library \" + url);};\n",
       "  document.getElementsByTagName(\"head\")[0].appendChild(s);\n",
       "}\n",
       "\n",
       "if(typeof(LDAvis) !== \"undefined\"){\n",
       "   // already loaded: just create the visualization\n",
       "   !function(LDAvis){\n",
       "       new LDAvis(\"#\" + \"ldavis_el154181397335335430645632518077\", ldavis_el154181397335335430645632518077_data);\n",
       "   }(LDAvis);\n",
       "}else if(typeof define === \"function\" && define.amd){\n",
       "   // require.js is available: use it to load d3/LDAvis\n",
       "   require.config({paths: {d3: \"https://cdnjs.cloudflare.com/ajax/libs/d3/3.5.5/d3.min\"}});\n",
       "   require([\"d3\"], function(d3){\n",
       "      window.d3 = d3;\n",
       "      LDAvis_load_lib(\"https://cdn.rawgit.com/bmabey/pyLDAvis/files/ldavis.v1.0.0.js\", function(){\n",
       "        new LDAvis(\"#\" + \"ldavis_el154181397335335430645632518077\", ldavis_el154181397335335430645632518077_data);\n",
       "      });\n",
       "    });\n",
       "}else{\n",
       "    // require.js not available: dynamically load d3 & LDAvis\n",
       "    LDAvis_load_lib(\"https://cdnjs.cloudflare.com/ajax/libs/d3/3.5.5/d3.min.js\", function(){\n",
       "         LDAvis_load_lib(\"https://cdn.rawgit.com/bmabey/pyLDAvis/files/ldavis.v1.0.0.js\", function(){\n",
       "                 new LDAvis(\"#\" + \"ldavis_el154181397335335430645632518077\", ldavis_el154181397335335430645632518077_data);\n",
       "            })\n",
       "         });\n",
       "}\n",
       "</script>"
      ],
      "text/plain": [
       "PreparedData(topic_coordinates=                x           y  topics  cluster       Freq\n",
       "topic                                                    \n",
       "6      310.156311   15.074718       1        1  13.366735\n",
       "0     -104.232651 -183.014725       2        1  13.009163\n",
       "5     -211.840317  168.061371       3        1  12.889610\n",
       "7       59.536453 -303.396454       4        1  11.646883\n",
       "4       -9.074527  266.324036       5        1  11.358979\n",
       "3       98.353203  -76.139862       6        1   8.677357\n",
       "2      262.298889 -205.103943       7        1   7.453854\n",
       "9      154.599442  145.855499       8        1   7.304623\n",
       "8     -259.729034  -52.122723       9        1   7.255586\n",
       "1      -47.959061   39.016216      10        1   7.037212, topic_info=     Category         Freq                  Term        Total  loglift  \\\n",
       "term                                                                     \n",
       "282   Default   922.000000                 basic   922.000000  30.0000   \n",
       "1309  Default  1027.000000                income  1027.000000  29.0000   \n",
       "2692  Default   737.000000                   ubi   737.000000  28.0000   \n",
       "2847  Default   342.000000                  work   342.000000  27.0000   \n",
       "2723  Default   467.000000             universal   467.000000  26.0000   \n",
       "281   Default   315.000000       baseincomequote   315.000000  25.0000   \n",
       "1427  Default   293.000000                   job   293.000000  24.0000   \n",
       "1933  Default   412.000000                people   412.000000  23.0000   \n",
       "2014  Default   283.000000               poverty   283.000000  22.0000   \n",
       "171   Default   179.000000                   amp   179.000000  21.0000   \n",
       "1794  Default   290.000000                  need   290.000000  20.0000   \n",
       "2885  Default   187.000000                  year   187.000000  19.0000   \n",
       "1805  Default   186.000000                  news   186.000000  18.0000   \n",
       "179   Default   289.000000            andrewyang   289.000000  17.0000   \n",
       "1801  Default   369.000000                   new   369.000000  16.0000   \n",
       "2561  Default   183.000000                   tax   183.000000  15.0000   \n",
       "257   Default   177.000000            automation   177.000000  14.0000   \n",
       "1002  Default   139.000000             financial   139.000000  13.0000   \n",
       "1482  Default   200.000000                  know   200.000000  12.0000   \n",
       "1188  Default   163.000000                 happy   163.000000  11.0000   \n",
       "2725  Default   170.000000  universalbasicincome   170.000000  10.0000   \n",
       "288   Default  2599.000000           basicincome  2599.000000   9.0000   \n",
       "2502  Default   161.000000             subreddit   161.000000   8.0000   \n",
       "1007  Default   163.000000               finland   163.000000   7.0000   \n",
       "2061  Default   200.000000               program   200.000000   6.0000   \n",
       "2877  Default   156.000000              yanggang   156.000000   5.0000   \n",
       "1923  Default   181.000000                   pay   181.000000   4.0000   \n",
       "2873  Default   175.000000              yang2020   175.000000   3.0000   \n",
       "1748  Default   183.000000                 money   183.000000   2.0000   \n",
       "2461  Default   135.000000                 start   135.000000   1.0000   \n",
       "...       ...          ...                   ...          ...      ...   \n",
       "2438  Topic10    49.869185                 south    50.721759   2.6370   \n",
       "17    Topic10    47.985096                   170    48.837655   2.6363   \n",
       "2080  Topic10    46.546845              province    47.399519   2.6358   \n",
       "2007  Topic10    45.490867                  post    46.343283   2.6354   \n",
       "1171  Topic10    44.262421              gyeonggi    45.114968   2.6349   \n",
       "1148  Topic10    40.314662               graphic    41.169015   2.6330   \n",
       "928   Topic10    35.557799             excellent    36.410762   2.6303   \n",
       "216   Topic10    35.418374              argument    36.270834   2.6302   \n",
       "1015  Topic10    32.564179                   fix    33.417052   2.6281   \n",
       "245   Topic10    32.199745                   auf    33.052579   2.6278   \n",
       "394   Topic10    31.347243                 build    32.199728   2.6271   \n",
       "1850  Topic10    31.242674                  oecd    32.095284   2.6270   \n",
       "2210  Topic10    29.857793              response    30.710397   2.6258   \n",
       "1394  Topic10    28.001298               ireland    28.853915   2.6240   \n",
       "2665  Topic10    26.699927                 trial    27.552356   2.6225   \n",
       "1370  Topic10    26.434767             intention    27.287286   2.6222   \n",
       "2351  Topic10    25.950613             sheffield    26.803001   2.6216   \n",
       "2023  Topic10    25.679989                   pre    26.532608   2.6213   \n",
       "2458  Topic10    25.679968             standouts    26.532607   2.6213   \n",
       "2375  Topic10    25.581523           simonjduffy    26.434483   2.6212   \n",
       "879   Topic10    25.409660               english    26.262094   2.6210   \n",
       "1858  Topic10    25.387176                   old    26.239632   2.6209   \n",
       "2720  Topic10    24.874085                united    25.726479   2.6203   \n",
       "1604  Topic10    76.778873               machine    81.993084   2.5883   \n",
       "608   Topic10    41.176677               country    43.380580   2.6018   \n",
       "297   Topic10    64.462417        basicincomeorg   166.205380   1.7068   \n",
       "2256  Topic10   200.366362                    rt  2740.825049   0.0381   \n",
       "288   Topic10   190.586577           basicincome  2599.459021   0.0410   \n",
       "1801  Topic10    51.634886                   new   369.922553   0.6849   \n",
       "1330  Topic10    28.457411            inequality   105.625939   1.3425   \n",
       "\n",
       "      logprob  \n",
       "term           \n",
       "282   30.0000  \n",
       "1309  29.0000  \n",
       "2692  28.0000  \n",
       "2847  27.0000  \n",
       "2723  26.0000  \n",
       "281   25.0000  \n",
       "1427  24.0000  \n",
       "1933  23.0000  \n",
       "2014  22.0000  \n",
       "171   21.0000  \n",
       "1794  20.0000  \n",
       "2885  19.0000  \n",
       "1805  18.0000  \n",
       "179   17.0000  \n",
       "1801  16.0000  \n",
       "2561  15.0000  \n",
       "257   14.0000  \n",
       "1002  13.0000  \n",
       "1482  12.0000  \n",
       "1188  11.0000  \n",
       "2725  10.0000  \n",
       "288    9.0000  \n",
       "2502   8.0000  \n",
       "1007   7.0000  \n",
       "2061   6.0000  \n",
       "2877   5.0000  \n",
       "1923   4.0000  \n",
       "2873   3.0000  \n",
       "1748   2.0000  \n",
       "2461   1.0000  \n",
       "...       ...  \n",
       "2438  -4.2765  \n",
       "17    -4.3150  \n",
       "2080  -4.3454  \n",
       "2007  -4.3683  \n",
       "1171  -4.3957  \n",
       "1148  -4.4891  \n",
       "928   -4.6147  \n",
       "216   -4.6186  \n",
       "1015  -4.7026  \n",
       "245   -4.7139  \n",
       "394   -4.7407  \n",
       "1850  -4.7441  \n",
       "2210  -4.7894  \n",
       "1394  -4.8536  \n",
       "2665  -4.9012  \n",
       "1370  -4.9112  \n",
       "2351  -4.9297  \n",
       "2023  -4.9401  \n",
       "2458  -4.9401  \n",
       "2375  -4.9440  \n",
       "879   -4.9507  \n",
       "1858  -4.9516  \n",
       "2720  -4.9720  \n",
       "1604  -3.8449  \n",
       "608   -4.4680  \n",
       "297   -4.0198  \n",
       "2256  -2.8857  \n",
       "288   -2.9358  \n",
       "1801  -4.2417  \n",
       "1330  -4.8374  \n",
       "\n",
       "[470 rows x 6 columns], token_table=      Topic      Freq          Term\n",
       "term                               \n",
       "0         5  0.992895           000\n",
       "2        10  0.995963            10\n",
       "3         7  0.988381           100\n",
       "13       10  0.988868            15\n",
       "17       10  0.982848           170\n",
       "18        1  0.978978            18\n",
       "24        9  0.973065           200\n",
       "26        4  0.973352          2013\n",
       "31        2  0.968683          2019\n",
       "38        8  0.959154          21st\n",
       "64        9  0.959517            48\n",
       "93        3  0.990733       ability\n",
       "94        8  0.987499          able\n",
       "116       2  0.974985      actually\n",
       "121       7  0.962526           add\n",
       "129       1  0.993106         adult\n",
       "141       6  0.973301           ago\n",
       "153       6  0.981641        alaska\n",
       "155       6  0.949650       alberta\n",
       "169       3  0.984205      american\n",
       "171       8  0.997334           amp\n",
       "176       6  0.991368        andrew\n",
       "179       3  0.639034    andrewyang\n",
       "179       6  0.307427    andrewyang\n",
       "179       8  0.051814    andrewyang\n",
       "190       2  0.980424        answer\n",
       "216      10  0.964963      argument\n",
       "228       6  0.984533           ask\n",
       "232       7  0.933928         asset\n",
       "242       3  0.972570     attention\n",
       "...     ...       ...           ...\n",
       "2795      8  0.342145          want\n",
       "2804      2  0.545269           way\n",
       "2804      4  0.318073           way\n",
       "2804      5  0.136317           way\n",
       "2806      3  0.966526        wealth\n",
       "2812      8  0.965662           wee\n",
       "2814      4  0.987661          week\n",
       "2826      1  0.992741        widely\n",
       "2839      2  0.986077         woman\n",
       "2840      7  0.971706     women4ubi\n",
       "2846      2  0.952646          word\n",
       "2847      1  0.087601          work\n",
       "2847      4  0.911046          work\n",
       "2858      2  0.642434         world\n",
       "2858      3  0.198691         world\n",
       "2858      9  0.152330         world\n",
       "2868      4  0.988428         wrong\n",
       "2871      6  0.989341          yang\n",
       "2873      2  0.902622      yang2020\n",
       "2873      3  0.091405      yang2020\n",
       "2877      2  0.995714      yanggang\n",
       "2884      2  0.716658  yangtownhall\n",
       "2884      6  0.275638  yangtownhall\n",
       "2885      6  0.930433          year\n",
       "2885      9  0.064168          year\n",
       "2888      6  0.698594           yes\n",
       "2888      8  0.224548           yes\n",
       "2888      9  0.074849           yes\n",
       "2892      5  0.964204         young\n",
       "2893      5  0.986131         youth\n",
       "\n",
       "[529 rows x 3 columns], R=30, lambda_step=0.01, plot_opts={'xlab': 'PC1', 'ylab': 'PC2'}, topic_order=[7, 1, 6, 8, 5, 4, 3, 10, 9, 2])"
      ]
     },
     "execution_count": 2,
     "metadata": {},
     "output_type": "execute_result"
    }
   ],
   "source": [
    "text = twitter.Tweets(basicincome_tweets)\n",
    "\n",
    "text.process_tweets_into_df()\n",
    "text.clean_column()\n",
    "text.generate_lda_graph()"
   ]
  },
  {
   "cell_type": "markdown",
   "metadata": {},
   "source": [
    "In this case, I am using this hashtag as a proxy for Universal Basic Income. There are a few things of concern here. Andrew Yang is commonly associated with this movement. Finland also of heavy interest at the moment. This is possibly due to an experimental A/B test Findland ran in 2017-2018 to study the effects of UBI, which [we still don't fully know the data on how that turned out](https://medium.com/basic-income/what-is-there-to-learn-from-finlands-basic-income-experiment-did-it-succeed-or-fail-54b8e5051f60). Also note that there is a lot of concern about the future of artificial intelligence and AI."
   ]
  },
  {
   "cell_type": "markdown",
   "metadata": {},
   "source": [
    "### Yang Gang"
   ]
  },
  {
   "cell_type": "code",
   "execution_count": null,
   "metadata": {},
   "outputs": [],
   "source": [
    "text = twitter.Tweets(yanggang_tweets)\n",
    "\n",
    "wordcloud = WordCloud(max_font_size=50, max_words=100).generate(' '.join([tweet.full_text for tweet in yanggang_tweets]))\n",
    "\n",
    "plt.imshow(wordcloud, interpolation='bilinear')\n",
    "plt.axis(\"off\")\n",
    "plt.show()"
   ]
  },
  {
   "cell_type": "code",
   "execution_count": null,
   "metadata": {},
   "outputs": [],
   "source": [
    "df = text.process_tweets_into_df()\n",
    "\n",
    "tqdm.pandas()\n",
    "df[\"processed_text\"] = df[\"full_text\"].progress_apply(text_analysis.spacy_tokenizer)\n",
    "\n",
    "tf, tf_vectorizer, tfidf, tfidf_vectorizer = text_analysis.get_words(df.processed_text.dropna().values)\n",
    "lda, nmf = text_analysis.get_topics(tf, tfidf, n_components=10)\n",
    "pyLDAvis.enable_notebook()\n",
    "dash = pyLDAvis.sklearn.prepare(lda, tf, tf_vectorizer, mds='tsne')\n",
    "dash"
   ]
  },
  {
   "cell_type": "markdown",
   "metadata": {},
   "source": [
    "A few things of note here. First, Zach Graumann gets mentioned a lot, especially in the first topic. He works as a campaign manager for Andrew Yang. He is also often compared to Trump, which makes sense as if he wins the nomination, he will be Trump's main competitor."
   ]
  },
  {
   "cell_type": "markdown",
   "metadata": {},
   "source": [
    "## Bernie Sanders"
   ]
  },
  {
   "cell_type": "code",
   "execution_count": null,
   "metadata": {},
   "outputs": [],
   "source": [
    "text = twitter.Tweets(berniebros_tweets)\n",
    "\n",
    "wordcloud = WordCloud(max_font_size=50, max_words=100).generate(' '.join([tweet.full_text for tweet in berniebros_tweets]))\n",
    "\n",
    "plt.imshow(wordcloud, interpolation='bilinear')\n",
    "plt.axis(\"off\")\n",
    "plt.show()"
   ]
  },
  {
   "cell_type": "code",
   "execution_count": null,
   "metadata": {},
   "outputs": [],
   "source": [
    "df = text.process_tweets_into_df()\n",
    "\n",
    "tqdm.pandas()\n",
    "df[\"processed_text\"] = df[\"full_text\"].progress_apply(text_analysis.spacy_tokenizer)\n",
    "\n",
    "tf, tf_vectorizer, tfidf, tfidf_vectorizer = text_analysis.get_words(df.processed_text.dropna().values)\n",
    "lda, nmf = text_analysis.get_topics(tf, tfidf, n_components=10)\n",
    "pyLDAvis.enable_notebook()\n",
    "dash = pyLDAvis.sklearn.prepare(lda, tf, tf_vectorizer, mds='tsne')\n",
    "dash"
   ]
  },
  {
   "cell_type": "markdown",
   "metadata": {},
   "source": [
    "## Donald Trump"
   ]
  },
  {
   "cell_type": "markdown",
   "metadata": {},
   "source": [
    "### Trump"
   ]
  },
  {
   "cell_type": "code",
   "execution_count": null,
   "metadata": {},
   "outputs": [],
   "source": [
    "wordcloud = WordCloud(max_font_size=50, max_words=100).generate(' '.join([tweet.full_text for tweet in trump_tweets]))\n",
    "\n",
    "plt.imshow(wordcloud, interpolation='bilinear')\n",
    "plt.axis(\"off\")\n",
    "plt.show()"
   ]
  },
  {
   "cell_type": "code",
   "execution_count": null,
   "metadata": {},
   "outputs": [],
   "source": [
    "text = twitter.Tweets(trump_tweets)\n",
    "df = text.process_tweets_into_df()\n",
    "\n",
    "tqdm.pandas()\n",
    "df[\"processed_text\"] = df[\"full_text\"].progress_apply(text_analysis.spacy_tokenizer)\n",
    "\n",
    "tf, tf_vectorizer, tfidf, tfidf_vectorizer = text_analysis.get_words(df.processed_text.dropna().values)\n",
    "lda, nmf = text_analysis.get_topics(tf, tfidf, n_components=10)\n",
    "pyLDAvis.enable_notebook()\n",
    "dash = pyLDAvis.sklearn.prepare(lda, tf, tf_vectorizer, mds='tsne')\n",
    "dash"
   ]
  },
  {
   "cell_type": "markdown",
   "metadata": {},
   "source": [
    "There is a lot to say here. First, these are mostly just concerns. The first topic is on Russia and Twitter, the eigth is about Trump's tax returns, and words like 'impeachment' and 'crime' are associated with multiple topics."
   ]
  },
  {
   "cell_type": "markdown",
   "metadata": {},
   "source": [
    "### Fake News"
   ]
  },
  {
   "cell_type": "code",
   "execution_count": null,
   "metadata": {},
   "outputs": [],
   "source": [
    "wordcloud = WordCloud(max_font_size=50, max_words=100).generate(' '.join([tweet.full_text for tweet in fakenews_tweets]))\n",
    "\n",
    "plt.imshow(wordcloud, interpolation='bilinear')\n",
    "plt.axis(\"off\")\n",
    "plt.show()"
   ]
  },
  {
   "cell_type": "code",
   "execution_count": null,
   "metadata": {},
   "outputs": [],
   "source": [
    "text = twitter.Tweets(fakenews_tweets)\n",
    "df = text.process_tweets_into_df()\n",
    "\n",
    "tqdm.pandas()\n",
    "df[\"processed_text\"] = df[\"full_text\"].progress_apply(text_analysis.spacy_tokenizer)\n",
    "\n",
    "tf, tf_vectorizer, tfidf, tfidf_vectorizer = text_analysis.get_words(df.processed_text.dropna().values)\n",
    "lda, nmf = text_analysis.get_topics(tf, tfidf, n_components=10)\n",
    "pyLDAvis.enable_notebook()\n",
    "dash = pyLDAvis.sklearn.prepare(lda, tf, tf_vectorizer, mds='tsne')\n",
    "dash"
   ]
  },
  {
   "cell_type": "markdown",
   "metadata": {},
   "source": [
    "### Political Correctness"
   ]
  },
  {
   "cell_type": "code",
   "execution_count": null,
   "metadata": {},
   "outputs": [],
   "source": [
    "wordcloud = WordCloud(max_font_size=50, max_words=100).generate(' '.join([tweet.full_text for tweet in politicalcorrectness_tweets]))\n",
    "\n",
    "plt.imshow(wordcloud, interpolation='bilinear')\n",
    "plt.axis(\"off\")\n",
    "plt.show()"
   ]
  },
  {
   "cell_type": "code",
   "execution_count": null,
   "metadata": {},
   "outputs": [],
   "source": [
    "text = twitter.Tweets(politicalcorrectness_tweets)\n",
    "df = text.process_tweets_into_df()\n",
    "\n",
    "tqdm.pandas()\n",
    "df[\"processed_text\"] = df[\"full_text\"].progress_apply(text_analysis.spacy_tokenizer)\n",
    "\n",
    "tf, tf_vectorizer, tfidf, tfidf_vectorizer = text_analysis.get_words(df.processed_text.dropna().values)\n",
    "lda, nmf = text_analysis.get_topics(tf, tfidf, n_components=10)\n",
    "pyLDAvis.enable_notebook()\n",
    "dash = pyLDAvis.sklearn.prepare(lda, tf, tf_vectorizer, mds='tsne')\n",
    "dash"
   ]
  }
 ],
 "metadata": {
  "kernelspec": {
   "display_name": "Python 3",
   "language": "python",
   "name": "python3"
  },
  "language_info": {
   "codemirror_mode": {
    "name": "ipython",
    "version": 3
   },
   "file_extension": ".py",
   "mimetype": "text/x-python",
   "name": "python",
   "nbconvert_exporter": "python",
   "pygments_lexer": "ipython3",
   "version": "3.7.1"
  }
 },
 "nbformat": 4,
 "nbformat_minor": 2
}
