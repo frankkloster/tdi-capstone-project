{
 "cells": [
  {
   "cell_type": "markdown",
   "metadata": {},
   "source": [
    "Previously, I scrapped a bunch of content from [The Atlantic's Website](https://www.theatlantic.com/). We saw before that among the site, Donald Trump had become extremely talked about, much more so than any other presidential candidate.\n",
    "\n",
    "![](atlantic-word-count.png)\n",
    "\n",
    "I continued my analysis, looking at the 2016 year in its entirety.\n",
    "\n",
    "![](2016-word-count.png)"
   ]
  },
  {
   "cell_type": "markdown",
   "metadata": {},
   "source": [
    "# Twitter Patterns"
   ]
  },
  {
   "cell_type": "markdown",
   "metadata": {},
   "source": [
    "In order to understand exactly how both Clinton and Trump platformed, I downloaded archives of their last 3200 tweets.\n",
    "\n",
    "From this, I used Latent Dirichlet Allocation in order to understand the main topics both candidates emphasized. Note that these include recent tweets as well (since April 10th 2019).\n",
    "\n",
    "Topic # | Trump | Clinton\n",
    "------|--------|---------\n",
    "1 | The Supreme Court | The US Military\n",
    "2 | The American Whitehouse | The American People\n",
    "3 | The FBI Investigation | White Americans & Taxes\n",
    "4 | The House | Trump\n",
    "5 | The Russia Investigation | Colleges & Health Care\n",
    "6 | The Mexico-American Wall | Children\n",
    "7 | Trade with China | American Elections\n",
    "8 | American People | Climate Change & Democracy\n",
    "9 | North Korea | United States\n",
    "10 | Making America Great | A Clinton Presidency\n",
    "\n",
    "Some details are lost in this summary. For instance Trump often talks about himself with all the related topics. He puts special emphasis on the fact that *he's* the one to fix the problems. Whereas, Clinton often speaks in terms of the abstract."
   ]
  },
  {
   "cell_type": "code",
   "execution_count": null,
   "metadata": {},
   "outputs": [],
   "source": []
  }
 ],
 "metadata": {
  "kernelspec": {
   "display_name": "Python 3",
   "language": "python",
   "name": "python3"
  },
  "language_info": {
   "codemirror_mode": {
    "name": "ipython",
    "version": 3
   },
   "file_extension": ".py",
   "mimetype": "text/x-python",
   "name": "python",
   "nbconvert_exporter": "python",
   "pygments_lexer": "ipython3",
   "version": "3.7.1"
  }
 },
 "nbformat": 4,
 "nbformat_minor": 2
}
