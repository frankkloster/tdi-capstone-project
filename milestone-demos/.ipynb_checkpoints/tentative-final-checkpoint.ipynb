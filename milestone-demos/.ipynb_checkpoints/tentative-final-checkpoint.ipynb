{
 "cells": [
  {
   "cell_type": "markdown",
   "metadata": {},
   "source": [
    "# Twitter Activity"
   ]
  },
  {
   "cell_type": "markdown",
   "metadata": {},
   "source": [
    "First, let us check each candidate's popularity on Twitter. We will be using using the number of 'likes' as a proxy to see how each candidate is in terms of popularity.\n",
    "\n",
    "First, let us check Andrew Yang's number of likes.\n",
    "\n",
    "![](yang-twitter-likes.png)\n",
    "\n",
    "As you can see, Andrew Yang is only just now starting to gain some notoriety. It is also important to note, too, that Andrew Yang's popularity mostly comes from online communities, such as Twitter and Reddit, so this graph may not be representative of his actual popularity.\n",
    "\n",
    "Next, let us look at Bernie Sanders.\n",
    "\n",
    "![](bernie-twitter-likes.png)\n",
    "\n",
    "Here, we see the inverse trend. Bernie Sanders used to have a lot of popularity, but recently, all his popularity has waned.\n",
    "\n",
    "Finally, moving onto Trump.\n",
    "\n",
    "![](trump-twitter-likes.png)\n",
    "\n",
    "As we see, Trump has probably the most consistently high popularity. In particular, his numbers dwarf either candidate in their height. Remember, though, that everyone is focused on Trump as the Republican cadidate, while divided between some 20+ different Democratic candidates."
   ]
  },
  {
   "cell_type": "code",
   "execution_count": null,
   "metadata": {},
   "outputs": [],
   "source": []
  }
 ],
 "metadata": {
  "kernelspec": {
   "display_name": "Python 3",
   "language": "python",
   "name": "python3"
  },
  "language_info": {
   "codemirror_mode": {
    "name": "ipython",
    "version": 3
   },
   "file_extension": ".py",
   "mimetype": "text/x-python",
   "name": "python",
   "nbconvert_exporter": "python",
   "pygments_lexer": "ipython3",
   "version": "3.7.1"
  }
 },
 "nbformat": 4,
 "nbformat_minor": 2
}
